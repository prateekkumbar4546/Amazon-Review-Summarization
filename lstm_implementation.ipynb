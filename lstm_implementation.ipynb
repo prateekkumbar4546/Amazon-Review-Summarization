{
  "nbformat": 4,
  "nbformat_minor": 0,
  "metadata": {
    "colab": {
      "name": "ts_lstm.ipynb",
      "provenance": [],
      "collapsed_sections": [],
      "toc_visible": true
    },
    "kernelspec": {
      "name": "python3",
      "display_name": "Python 3"
    },
    "language_info": {
      "name": "python"
    }
  },
  "cells": [
    {
      "cell_type": "markdown",
      "metadata": {
        "id": "mZh1M9YyHTt1"
      },
      "source": [
        "#Text Summarization\n",
        "---\n",
        "\n",
        "\n",
        "Text summarization is a technique to abridge lengthy and voluminous pieces of information. The motive is to shorten the text while keeping the semantics and the key message intact.\n",
        "\n",
        "This notebook implements a simple 1 layer lstm encoder decoder network for text summarization. For more details refer to \"ts_attention_lstm_v2.ipynb\".\n",
        "\n",
        "Note: This notebook contains brief explanations if any. Please refer to \"ts_attention_lstm_v2.ipynb\" for a deeper understanding."
      ]
    },
    {
      "cell_type": "code",
      "metadata": {
        "colab": {
          "base_uri": "https://localhost:8080/"
        },
        "id": "5vTxnZApfqf2",
        "outputId": "f2651c1c-ca51-4fb9-cd0b-1db61e8b097a"
      },
      "source": [
        "#Import libraries\n",
        "import numpy as np\n",
        "import pandas as pd\n",
        "import matplotlib.pyplot as plt\n",
        "from bs4 import BeautifulSoup\n",
        "import re\n",
        "import os\n",
        "import pickle\n",
        "from google.colab import drive\n",
        "\n",
        "import nltk\n",
        "nltk.download('stopwords')\n",
        "from nltk.corpus import stopwords\n",
        "from nltk.translate.bleu_score import sentence_bleu, corpus_bleu\n",
        "from sklearn.model_selection import train_test_split\n",
        "\n",
        "import tensorflow as tf\n",
        "import tensorflow_datasets as tfds\n",
        "from tensorflow.keras.preprocessing.text import Tokenizer\n",
        "from tensorflow.keras.preprocessing.sequence import pad_sequences\n",
        "from tensorflow.keras import backend as K"
      ],
      "execution_count": null,
      "outputs": [
        {
          "output_type": "stream",
          "text": [
            "[nltk_data] Downloading package stopwords to /root/nltk_data...\n",
            "[nltk_data]   Package stopwords is already up-to-date!\n"
          ],
          "name": "stdout"
        }
      ]
    },
    {
      "cell_type": "markdown",
      "metadata": {
        "id": "aW0vHPMiBABL"
      },
      "source": [
        "##Dataset Description:\n",
        "\n",
        "This dataset consists of reviews of fine foods from amazon. The data span a period of more than 10 years, including all ~500,000 reviews up to October 2012. Reviews include product and user information, ratings, and a plain text review. It also includes reviews from all other Amazon categories.\n",
        "\n",
        "<br>Data includes:\n",
        "\n",
        "* Reviews from Oct 1999 - Oct 2012\n",
        "* 568,454 reviews\n",
        "* 256,059 users\n",
        "* 74,258 products\n",
        "\n",
        "It consists of following columns: \\['**Id**', '**ProductId**', '**UserId**', '**ProfileName**', '**HelpfulnessNumerator**', '**HelpfulnessDenominator**', '**Score**', '**Time**', '**Summary**', '**Text**']. However, we are only concerned with the Text and Summary. \n",
        "\n",
        "Data is available as a part of a [Kaggle competition](https://www.kaggle.com/snap/amazon-fine-food-reviews) and is stored in google drive for ease in access."
      ]
    },
    {
      "cell_type": "code",
      "metadata": {
        "colab": {
          "base_uri": "https://localhost:8080/"
        },
        "id": "LQNe2B8QY1Je",
        "outputId": "ad487562-cf36-494c-c10c-1d6e65d586d1"
      },
      "source": [
        "#Download the dataset and read it\n",
        "!gdown --id 1FyIy2yUM9CAA8wBH_wxyZpHR4fxVuTdQ\n",
        "!gdown --id 1sPBc_5oE7GA-zA_MDYzRSDyijDPvUr0j"
      ],
      "execution_count": null,
      "outputs": [
        {
          "output_type": "stream",
          "text": [
            "Downloading...\n",
            "From: https://drive.google.com/uc?id=1FyIy2yUM9CAA8wBH_wxyZpHR4fxVuTdQ\n",
            "To: /content/Reviews.csv\n",
            "301MB [00:04, 65.5MB/s]\n",
            "Downloading...\n",
            "From: https://drive.google.com/uc?id=1sPBc_5oE7GA-zA_MDYzRSDyijDPvUr0j\n",
            "To: /content/contraction_dict.pickle\n",
            "100% 3.55k/3.55k [00:00<00:00, 5.40MB/s]\n"
          ],
          "name": "stdout"
        }
      ]
    },
    {
      "cell_type": "code",
      "metadata": {
        "colab": {
          "base_uri": "https://localhost:8080/",
          "height": 195
        },
        "id": "XO0B2JDJmA4c",
        "outputId": "68fd8987-d116-4a55-f4a8-035823a31ba8"
      },
      "source": [
        "#Read the csv\n",
        "#\n",
        "# Considering the training time and colab hardware restrictions, \n",
        "# it is advisable to train the model on a fraction of the data.\n",
        "# 100000 rows would suffice here.\n",
        "df = pd.read_csv('Reviews.csv', usecols=['Summary', 'Text'], nrows=100000)\n",
        "\n",
        "#Dropping duplicate text\n",
        "df.drop_duplicates(subset=['Text'],inplace=True)\n",
        "df.dropna(axis=0,inplace=True)\n",
        "\n",
        "#Check out the data\n",
        "df.head(5)"
      ],
      "execution_count": null,
      "outputs": [
        {
          "output_type": "execute_result",
          "data": {
            "text/html": [
              "<div>\n",
              "<style scoped>\n",
              "    .dataframe tbody tr th:only-of-type {\n",
              "        vertical-align: middle;\n",
              "    }\n",
              "\n",
              "    .dataframe tbody tr th {\n",
              "        vertical-align: top;\n",
              "    }\n",
              "\n",
              "    .dataframe thead th {\n",
              "        text-align: right;\n",
              "    }\n",
              "</style>\n",
              "<table border=\"1\" class=\"dataframe\">\n",
              "  <thead>\n",
              "    <tr style=\"text-align: right;\">\n",
              "      <th></th>\n",
              "      <th>Summary</th>\n",
              "      <th>Text</th>\n",
              "    </tr>\n",
              "  </thead>\n",
              "  <tbody>\n",
              "    <tr>\n",
              "      <th>0</th>\n",
              "      <td>Good Quality Dog Food</td>\n",
              "      <td>I have bought several of the Vitality canned d...</td>\n",
              "    </tr>\n",
              "    <tr>\n",
              "      <th>1</th>\n",
              "      <td>Not as Advertised</td>\n",
              "      <td>Product arrived labeled as Jumbo Salted Peanut...</td>\n",
              "    </tr>\n",
              "    <tr>\n",
              "      <th>2</th>\n",
              "      <td>\"Delight\" says it all</td>\n",
              "      <td>This is a confection that has been around a fe...</td>\n",
              "    </tr>\n",
              "    <tr>\n",
              "      <th>3</th>\n",
              "      <td>Cough Medicine</td>\n",
              "      <td>If you are looking for the secret ingredient i...</td>\n",
              "    </tr>\n",
              "    <tr>\n",
              "      <th>4</th>\n",
              "      <td>Great taffy</td>\n",
              "      <td>Great taffy at a great price.  There was a wid...</td>\n",
              "    </tr>\n",
              "  </tbody>\n",
              "</table>\n",
              "</div>"
            ],
            "text/plain": [
              "                 Summary                                               Text\n",
              "0  Good Quality Dog Food  I have bought several of the Vitality canned d...\n",
              "1      Not as Advertised  Product arrived labeled as Jumbo Salted Peanut...\n",
              "2  \"Delight\" says it all  This is a confection that has been around a fe...\n",
              "3         Cough Medicine  If you are looking for the secret ingredient i...\n",
              "4            Great taffy  Great taffy at a great price.  There was a wid..."
            ]
          },
          "metadata": {
            "tags": []
          },
          "execution_count": 3
        }
      ]
    },
    {
      "cell_type": "code",
      "metadata": {
        "id": "qlp7wcViiwE1"
      },
      "source": [
        "#Download stopwords\n",
        "stop_words = set(stopwords.words('english'))\n",
        "\n",
        "#Load the contraction_dict\n",
        "#It maps 'I've' -> 'I have'\n",
        "with open('contraction_dict.pickle', 'rb') as handle:\n",
        "    contraction_mapping = pickle.load(handle)\n",
        "\n",
        "# Preprocess Text\n",
        "def text_cleaner(review):\n",
        "    \n",
        "    review = review.lower()\n",
        "    review = BeautifulSoup(review, \"lxml\").text\n",
        "    review = re.sub(r'\\([^)]*\\)', '', review)\n",
        "    review = re.sub('\"','', review)\n",
        "    review = ' '.join([contraction_mapping[t] if t in contraction_mapping else t for t in review.split(\" \")])    \n",
        "    review = re.sub(r\"'s\\b\",\"\",review)\n",
        "    review = re.sub(\"[^a-zA-Z]\", \" \", review) \n",
        "    review = [w for w in review.split() if w not in stop_words]\n",
        "    \n",
        "    return \" \".join([i for i in review if len(i)>2])\n",
        "\n",
        "#Preprocess Summary\n",
        "def summary_cleaner(summary):\n",
        "    \n",
        "    summary = re.sub('\"','', summary)\n",
        "    summary = ' '.join([contraction_mapping[t] if t in contraction_mapping else t for t in summary.split(\" \")])    \n",
        "    summary = re.sub(r\"'s\\b\",\"\",summary)\n",
        "    summary = re.sub(\"[^a-zA-Z]\", \" \", summary)\n",
        "    summary = summary.lower()\n",
        "    summary= summary.split()\n",
        "    \n",
        "    return \" \".join([i for i in summary if len(i)>1])"
      ],
      "execution_count": null,
      "outputs": []
    },
    {
      "cell_type": "code",
      "metadata": {
        "colab": {
          "base_uri": "https://localhost:8080/"
        },
        "id": "FZV6h0cFBfi_",
        "outputId": "1d629ee2-178d-4d58-cfc6-bbe2c504a65f"
      },
      "source": [
        "#Apply the functions to our dataset\n",
        "df.Text = df.Text.apply(text_cleaner)\n",
        "df.Summary = df.Summary.apply(summary_cleaner)\n",
        "\n",
        "#Dropping empty strings\n",
        "df['Summary'].replace('', np.nan, inplace=True)\n",
        "df.dropna(axis=0,inplace=True)\n",
        "\n",
        "#Check out the preprocessed data\n",
        "print(df.head(5))\n",
        "print(\"No of rows post processing: \", df.shape[0])"
      ],
      "execution_count": null,
      "outputs": [
        {
          "output_type": "stream",
          "text": [
            "                 Summary                                               Text\n",
            "0  good quality dog food  bought several vitality canned dog food produc...\n",
            "1      not as advertised  product arrived labeled jumbo salted peanuts p...\n",
            "2    delight says it all  confection around centuries light pillowy citr...\n",
            "3         cough medicine  looking secret ingredient robitussin believe f...\n",
            "4            great taffy  great taffy great price wide assortment yummy ...\n",
            "No of rows post processing:  88356\n"
          ],
          "name": "stdout"
        }
      ]
    },
    {
      "cell_type": "code",
      "metadata": {
        "colab": {
          "base_uri": "https://localhost:8080/",
          "height": 314
        },
        "id": "tfSiCT_QBfjA",
        "outputId": "2109dbed-3d0f-4a1f-f385-70835984e752"
      },
      "source": [
        "#Analyse the len of texts and summaries\n",
        "#Finalize maximum text and summary length\n",
        "text_word_count = np.array([len(w.split()) for w in df.Text], dtype='int')\n",
        "summary_word_count = np.array([len(w.split()) for w in df.Summary], dtype='int')\n",
        "\n",
        "pd.DataFrame({\"text_count\":text_word_count, \"summary_count\":summary_word_count}).hist()\n",
        "\n",
        "#Set the maximum lengths\n",
        "MAX_TEXT_LEN = 80\n",
        "MAX_SUM_LEN = 10\n",
        "\n",
        "print(\"Fraction of texts with less than {} words is {}\".format(MAX_TEXT_LEN, np.mean(text_word_count<MAX_TEXT_LEN) ))\n",
        "print(\"Fraction of summaries with less than {} words is {}\".format(MAX_SUM_LEN, np.mean(summary_word_count<MAX_SUM_LEN)))"
      ],
      "execution_count": null,
      "outputs": [
        {
          "output_type": "stream",
          "text": [
            "Fraction of texts with less than 80 words is 0.9070464937299109\n",
            "Fraction of summaries with less than 10 words is 0.9646430349947938\n"
          ],
          "name": "stdout"
        },
        {
          "output_type": "display_data",
          "data": {
            "image/png": "[encoded data removed]",
            "text/plain": [
              "<Figure size 432x288 with 2 Axes>"
            ]
          },
          "metadata": {
            "tags": [],
            "needs_background": "light"
          }
        }
      ]
    },
    {
      "cell_type": "code",
      "metadata": {
        "colab": {
          "base_uri": "https://localhost:8080/"
        },
        "id": "uZYU8nkLBfjC",
        "outputId": "9769f5a5-3676-4b11-8c58-156c85f93ca3"
      },
      "source": [
        "#Truncate text to MAX_TEXT_LEN \n",
        "#Truncate summary to (MAX_SUM_LEN - 2), prepend start token 'xstartx' and append end token 'xendx'\n",
        "df_pro = pd.DataFrame()\n",
        "\n",
        "df_pro['Text'] = df['Text'].map(lambda text: ' '.join(text.split()[-(MAX_TEXT_LEN-2):]))\n",
        "df_pro['Summary'] = df['Summary'].map(lambda text: ' '.join(['xstartx'] + text.split()[-(MAX_SUM_LEN-2):] + ['xendx']))\n",
        "\n",
        "#Check out the result\n",
        "for _, row in df_pro.sample(5).iterrows():\n",
        "    print(\"Review_{}: {}\".format(len(row['Text'].split()), row['Text']))\n",
        "    print(\"Summary_{}: {}\".format(len(row['Summary'].split()), row['Summary']))\n",
        "    print(\"\")"
      ],
      "execution_count": null,
      "outputs": [
        {
          "output_type": "stream",
          "text": [
            "Review_31: received shipment today tried microwave four bags using different time settings one two bag microwave correctly even put unpopped plate someone suggested nothing carefully followed directions bag could rate zero would\n",
            "Summary_5: xstartx waste of money xendx\n",
            "\n",
            "Review_31: wanted desperately love even like drink mix success love mint tea tastes green tea strong green weak mint flavor enjoy every try tolerate bottle hoping change taste gross clearly appealing people\n",
            "Summary_5: xstartx not for me xendx\n",
            "\n",
            "Review_24: used able buy cookies locally found long finally saw available amazon bought whole case like two cookies coffee morning get day good start order\n",
            "Summary_3: xstartx delicious xendx\n",
            "\n",
            "Review_35: nice coffee great price find coffee well balanced good flavor acidic agree labeling medium nice breakfast coffee bold definitely weak bonus organic fair trade roasted north america buying subscribe save free day shipping amazon prime\n",
            "Summary_5: xstartx good balanced coffee xendx\n",
            "\n",
            "Review_78: latest long list hopefuls plus side wheat free glutton free non dairy include omega fatty acids trans fats also low sugar low sodium low saturated fats probably good quick snack special dietary needs negative site taste acquired one least bad taste stretch imagination opinion one look forward either maybe lack sweetness bar least enough sweetness makes necessary snack instead attractive one see eventually grows overall decent healthy snack terrible tasting could better based bars tried could lot worse\n",
            "Summary_10: xstartx the healthy side but probably an acquired taste xendx\n",
            "\n"
          ],
          "name": "stdout"
        }
      ]
    },
    {
      "cell_type": "code",
      "metadata": {
        "colab": {
          "base_uri": "https://localhost:8080/"
        },
        "id": "nwc3r79yBfjE",
        "outputId": "23f0e2b0-1673-45d8-b056-378165c55518"
      },
      "source": [
        "#Splitting the train and validation set\n",
        "txt_train, txt_val, sum_train, sum_val = train_test_split(df_pro['Text'], df_pro['Summary'], test_size=0.1, random_state=0, shuffle=True)\n",
        "\n",
        "#Check out the shapes of the resulting partition\n",
        "print('Rows -> txt_train: {}, txt_val: {}, sum_train: {}, sum_val: {}'.\n",
        "      format(txt_train.shape[0], txt_val.shape[0], sum_train.shape[0], sum_val.shape[0]))\n",
        "\n",
        "#prepare a tokenizer for reviews on training data\n",
        "x_tokenizer = Tokenizer()\n",
        "x_tokenizer.fit_on_texts(txt_train.tolist())\n",
        "\n",
        "#convert text sequences into integer sequences\n",
        "x_tr    =   x_tokenizer.texts_to_sequences(txt_train) \n",
        "x_val   =   x_tokenizer.texts_to_sequences(txt_val)\n",
        "\n",
        "#padding zero upto maximum length\n",
        "x_tr    =   pad_sequences(x_tr,  maxlen=MAX_TEXT_LEN, padding='post') \n",
        "x_val   =   pad_sequences(x_val, maxlen=MAX_TEXT_LEN, padding='post')\n",
        "\n",
        "#Set vocab size to #Unique_words + 1(for 0 which is padding)\n",
        "x_voc_size   =  len(x_tokenizer.word_index) +1\n",
        "\n",
        "#Sanity Check\n",
        "print('\\nx_tr.shape: ', x_tr.shape)\n",
        "print('x_val.shape: ', x_val.shape)\n",
        "\n",
        "####\n",
        "# Doing the same process for summaries\n",
        "####\n",
        "\n",
        "#preparing a tokenizer for summary on training data \n",
        "y_tokenizer = Tokenizer()\n",
        "y_tokenizer.fit_on_texts(sum_train.tolist())\n",
        "\n",
        "#convert summary sequences into integer sequences\n",
        "y_tr    =   y_tokenizer.texts_to_sequences(sum_train) \n",
        "y_val   =   y_tokenizer.texts_to_sequences(sum_val) \n",
        "\n",
        "#padding zero upto maximum length\n",
        "y_tr    =   pad_sequences(y_tr, maxlen=MAX_SUM_LEN, padding='post')\n",
        "y_val   =   pad_sequences(y_val, maxlen=MAX_SUM_LEN, padding='post')\n",
        "\n",
        "#Set vocab size to #Unique_words + 1(for 0 which is padding)\n",
        "y_voc_size  =   len(y_tokenizer.word_index) +1\n",
        "\n",
        "#Sanity Check\n",
        "print('\\ny_tr.shape: ', y_tr.shape)\n",
        "print('y_val.shape: ', y_val.shape)\n",
        "print('\\nx_voc_size: ', x_voc_size, '\\ny_voc_size: ', y_voc_size)\n",
        "\n",
        "#Sanity Check\n",
        "for i in np.random.randint(5000, size=(5,)): \n",
        "  print('\\nTrue summary: ', y_tokenizer.sequences_to_texts([y_tr[i]]))\n",
        "  print('Processed summary: ', y_tr[i])"
      ],
      "execution_count": null,
      "outputs": [
        {
          "output_type": "stream",
          "text": [
            "Rows -> txt_train: 79520, txt_val: 8836, sum_train: 79520, sum_val: 8836\n",
            "\n",
            "x_tr.shape:  (79520, 80)\n",
            "x_val.shape:  (8836, 80)\n",
            "\n",
            "y_tr.shape:  (79520, 10)\n",
            "y_val.shape:  (8836, 10)\n",
            "\n",
            "x_voc_size:  48222 \n",
            "y_voc_size:  13871\n",
            "\n",
            "True summary:  ['xstartx so close to restaurant quality you cannot tell xendx']\n",
            "Processed summary:  [   1   40  607   18 1193   65   34  278 1306    2]\n",
            "\n",
            "True summary:  ['xstartx buyer beware xendx']\n",
            "Processed summary:  [  1 714 209   2   0   0   0   0   0   0]\n",
            "\n",
            "True summary:  ['xstartx we love happybellies xendx']\n",
            "Processed summary:  [   1  198   13 2690    2    0    0    0    0    0]\n",
            "\n",
            "True summary:  ['xstartx where the flavor xendx']\n",
            "Processed summary:  [  1 405   4  25   2   0   0   0   0   0]\n",
            "\n",
            "True summary:  ['xstartx price is right xendx']\n",
            "Processed summary:  [  1  32  16 194   2   0   0   0   0   0]\n"
          ],
          "name": "stdout"
        }
      ]
    },
    {
      "cell_type": "markdown",
      "metadata": {
        "id": "N19BYO2PDtS_"
      },
      "source": [
        "##Model Building\n",
        "\n",
        "The encoder model consists of following parts-\n",
        "\n",
        "1. Embedding layer\n",
        "  * Input: (None, 80)\n",
        "  * Output: (None, 80, 256)\n",
        "\n",
        "2. 1 LSTM layer\n",
        "  * Input: (None, 80, 256)\n",
        "  * Output: \"Hidden_state\" - (None, 80, 256), \"state_h\" - (None, 256), \"state_c\" - (None, 256) \n",
        "\n",
        "The decoder model is made up of-\n",
        "\n",
        "1. Embedding Layer\n",
        "  * Input: (None,) **Note: Here we avoid specifying sequence length of summary, since in inference phase we would like to predict 1 word at a time.**\n",
        "  * Output: (None, None, 256)\n",
        "\n",
        "2. LSTM layer\n",
        "  * Input: (None, None, 256)\n",
        "  * Output: \"Hidden_state\" - (None, None, 256), \"state_h\" - (None, 256), \"state_c\" - (None, 256)\n",
        "\n",
        "3. TimeDistributed Layer with softmax activation\n",
        "  * Input: (None, None, 256)\n",
        "  * Output: (None, None, 13871)\n",
        "\n",
        "Notice that this model is a simple modeline against which performance of other two models will be compared."
      ]
    },
    {
      "cell_type": "code",
      "metadata": {
        "colab": {
          "base_uri": "https://localhost:8080/"
        },
        "id": "WaRdDZTU5gW4",
        "outputId": "8b4a190d-844f-498b-eae1-21efd49594ec"
      },
      "source": [
        "latent_dim = 256\n",
        "\n",
        "# Encoder \n",
        "encoder_inputs = tf.keras.layers.Input(shape=(MAX_TEXT_LEN,)) \n",
        "enc_emb = tf.keras.layers.Embedding(x_voc_size, latent_dim,trainable=True)(encoder_inputs) \n",
        "\n",
        "#LSTM 1 \n",
        "encoder_lstm1 = tf.keras.layers.LSTM(latent_dim,return_sequences=False,return_state=True)\n",
        "encoder_outputs, state_h, state_c= encoder_lstm1(enc_emb) \n",
        "\n",
        "# Set up the decoder. \n",
        "decoder_inputs = tf.keras.layers.Input(shape=(None,)) \n",
        "dec_emb_layer = tf.keras.layers.Embedding(y_voc_size, latent_dim,trainable=True) \n",
        "dec_emb = dec_emb_layer(decoder_inputs) \n",
        "\n",
        "#LSTM using encoder_states as initial state\n",
        "decoder_lstm = tf.keras.layers.LSTM(latent_dim, return_sequences=True, return_state=True) \n",
        "decoder_outputs,decoder_fwd_state, decoder_back_state = decoder_lstm(dec_emb,initial_state=[state_h, state_c]) \n",
        "\n",
        "#Dense layer\n",
        "decoder_dense = tf.keras.layers.TimeDistributed(tf.keras.layers.Dense(y_voc_size, activation='softmax')) \n",
        "decoder_outputs = decoder_dense(decoder_outputs) \n",
        "\n",
        "# Define the model\n",
        "model = tf.keras.models.Model([encoder_inputs, decoder_inputs], decoder_outputs) \n",
        "model.compile(optimizer='rmsprop', loss='sparse_categorical_crossentropy')\n",
        "model.summary()"
      ],
      "execution_count": null,
      "outputs": [
        {
          "output_type": "stream",
          "text": [
            "Model: \"model_1\"\n",
            "__________________________________________________________________________________________________\n",
            "Layer (type)                    Output Shape         Param #     Connected to                     \n",
            "==================================================================================================\n",
            "input_3 (InputLayer)            [(None, 80)]         0                                            \n",
            "__________________________________________________________________________________________________\n",
            "input_4 (InputLayer)            [(None, None)]       0                                            \n",
            "__________________________________________________________________________________________________\n",
            "embedding_2 (Embedding)         (None, 80, 256)      12344832    input_3[0][0]                    \n",
            "__________________________________________________________________________________________________\n",
            "embedding_3 (Embedding)         (None, None, 256)    3550976     input_4[0][0]                    \n",
            "__________________________________________________________________________________________________\n",
            "lstm_2 (LSTM)                   [(None, 256), (None, 525312      embedding_2[0][0]                \n",
            "__________________________________________________________________________________________________\n",
            "lstm_3 (LSTM)                   [(None, None, 256),  525312      embedding_3[0][0]                \n",
            "                                                                 lstm_2[0][1]                     \n",
            "                                                                 lstm_2[0][2]                     \n",
            "__________________________________________________________________________________________________\n",
            "time_distributed_1 (TimeDistrib (None, None, 13871)  3564847     lstm_3[0][0]                     \n",
            "==================================================================================================\n",
            "Total params: 20,511,279\n",
            "Trainable params: 20,511,279\n",
            "Non-trainable params: 0\n",
            "__________________________________________________________________________________________________\n"
          ],
          "name": "stdout"
        }
      ]
    },
    {
      "cell_type": "code",
      "metadata": {
        "colab": {
          "base_uri": "https://localhost:8080/",
          "height": 466
        },
        "id": "dsMcrvB8EvGH",
        "outputId": "ba7711aa-1a3c-4f5c-ce6d-5598f5190515"
      },
      "source": [
        "#Plot the model\n",
        "tf.keras.utils.plot_model(model) #Complete model\n",
        "#tf.keras.models.Model(encoder_inputs, encoder_outputs) #Encoder Model"
      ],
      "execution_count": null,
      "outputs": [
        {
          "output_type": "execute_result",
          "data": {
            "image/png": "[encoded data removed]",
            "text/plain": [
              "<IPython.core.display.Image object>"
            ]
          },
          "metadata": {
            "tags": []
          },
          "execution_count": 12
        }
      ]
    },
    {
      "cell_type": "markdown",
      "metadata": {
        "id": "T6IiA-sxE1FA"
      },
      "source": [
        "### Callbacks\n",
        "\n",
        "* CSVLogger - To keep track of train and val loss.\n",
        "* EarlyStopping - To terminate training in case of overfitting.\n",
        "* ModelCheckpoint - Save model to avoid retraining if colab crashes"
      ]
    },
    {
      "cell_type": "code",
      "metadata": {
        "colab": {
          "base_uri": "https://localhost:8080/"
        },
        "id": "bs7sDwK5E1FB",
        "outputId": "7a4182e1-9692-4f06-d469-559154cd03d4"
      },
      "source": [
        "#Callbacks\n",
        "#This requires a drive mount\n",
        "drive_root = '/content/drive/My Drive'\n",
        "model_name = 'simple_lstm'\n",
        "\n",
        "#Check if drive is mounted\n",
        "if not os.path.exists(drive_root):\n",
        "  print(\"Please mount google drive for this operation\")\n",
        "  drive.mount('/drive')\n",
        "\n",
        "#CSVLogger paths\n",
        "#Check if they exist\n",
        "csv_dir = os.path.join(drive_root, 'csvLogger')\n",
        "csv_filename = os.path.join(csv_dir, f'{model_name}.csv')\n",
        "\n",
        "if not os.path.exists(csv_dir):\n",
        "  os.makedirs(csv_dir)\n",
        "  print(\"CSV directory created at path: \", csv_dir)\n",
        "else:\n",
        "  print(\"CSV directory already exist at path: \", csv_dir)\n",
        "\n",
        "#ModelCheckpoint paths\n",
        "#Check if they exist\n",
        "checkpoint_dir = os.path.join(drive_root, 'checkpoints/project', model_name) #stacked_lstm checkpoints are stored here. Separate for different folders\n",
        "checkpoint_path = os.path.join(checkpoint_dir, model_name + '_e{epoch}_vl_{val_loss:0.4f}.ckpt')\n",
        "\n",
        "if not os.path.exists(checkpoint_dir):\n",
        "  os.makedirs(checkpoint_dir)\n",
        "  print(\"Checkpoints directory created at path: \", checkpoint_dir)\n",
        "else:\n",
        "  print(\"Checkpoints folder already exists at path: \", checkpoint_dir)  \n",
        "\n",
        "#Create a callback that logs the content in CSV\n",
        "csv_logger = tf.keras.callbacks.CSVLogger(csv_filename,\n",
        "                                          separator=',',\n",
        "                                          append=True)\n",
        "\n",
        "# Create a callback that stops training for no improvement\n",
        "es = tf.keras.callbacks.EarlyStopping(monitor='val_loss',\n",
        "                                      mode='min',\n",
        "                                      verbose=1,\n",
        "                                      patience=5)\n",
        "\n",
        "# Create a callback that saves the model's weights\n",
        "cp_callback = tf.keras.callbacks.ModelCheckpoint(filepath=checkpoint_path,\n",
        "                                                 save_weights_only=True,\n",
        "                                                 save_best_only=False,\n",
        "                                                 verbose=1)"
      ],
      "execution_count": null,
      "outputs": [
        {
          "output_type": "stream",
          "text": [
            "CSV directory already exist at path:  /content/drive/My Drive/csvLogger\n",
            "Checkpoints folder already exists at path:  /content/drive/My Drive/checkpoints/project/simple_lstm\n"
          ],
          "name": "stdout"
        }
      ]
    },
    {
      "cell_type": "markdown",
      "metadata": {
        "id": "_6appyBH9OKh"
      },
      "source": [
        "###Model Training\n",
        "\n",
        "1. Load the latest checkpoint if any.\n",
        "2. Resume or start training."
      ]
    },
    {
      "cell_type": "code",
      "metadata": {
        "colab": {
          "base_uri": "https://localhost:8080/"
        },
        "id": "d6KEfd1W9bNx",
        "outputId": "377fec2e-d3d5-4365-fa67-17ee3fa66f93"
      },
      "source": [
        "#Load the latest checkpoint\n",
        "latest = tf.train.latest_checkpoint(checkpoint_dir)\n",
        "\n",
        "if latest != None:\n",
        "  print(\"Loading weights from: \", latest)\n",
        "  model.load_weights(latest)\n",
        "else:\n",
        "  print(\"Checkpoint not found. Starting from scratch\")"
      ],
      "execution_count": null,
      "outputs": [
        {
          "output_type": "stream",
          "text": [
            "Loading weights from:  /content/drive/My Drive/checkpoints/project/simple_lstm/simple_lstm_vl_2.3307.ckpt\n"
          ],
          "name": "stdout"
        }
      ]
    },
    {
      "cell_type": "code",
      "metadata": {
        "id": "Yr_7VD-uAg06"
      },
      "source": [
        "#Model training\n",
        "#Uncomment this to train it on toy dataset, overfit and check if everything works fine.\n",
        "\n",
        "# history = model.fit([x_tr[:32],y_tr[:32,:-1]], y_tr[:32][:,1:,np.newaxis],\n",
        "#                     epochs=10, batch_size=16,\n",
        "#                     validation_data = ([x_val[:32],y_val[:32,:-1]], y_val[:32][:,1:,np.newaxis]))"
      ],
      "execution_count": null,
      "outputs": []
    },
    {
      "cell_type": "code",
      "metadata": {
        "id": "iwP3ur8raydS"
      },
      "source": [
        "#Train Model on Complete Dataset\n",
        "history = model.fit([x_tr[:],y_tr[:,:-1]], y_tr[:][:,1:,np.newaxis],\n",
        "                    epochs=50, batch_size=512, initial_epoch = 18,\n",
        "                    validation_data = ([x_val[:],y_val[:,:-1]], y_val[:][:,1:,np.newaxis]),\n",
        "                    callbacks=[cp_callback, es, csv_logger])"
      ],
      "execution_count": null,
      "outputs": []
    },
    {
      "cell_type": "code",
      "metadata": {
        "colab": {
          "base_uri": "https://localhost:8080/",
          "height": 281
        },
        "id": "L9PUUM_cMSqk",
        "outputId": "aef03d98-7850-4901-c01c-62975c47632f"
      },
      "source": [
        "#Let's check out the model performance\n",
        "perf_df = pd.read_csv(csv_filename)\n",
        "\n",
        "plt.ylim(1.4, 3.5)\n",
        "plt.plot(perf_df['loss'], label='training_loss')\n",
        "plt.plot(perf_df['val_loss'], label='validation_loss')\n",
        "plt.legend()\n",
        "plt.title(f'{model_name}')\n",
        "plt.show()"
      ],
      "execution_count": null,
      "outputs": [
        {
          "output_type": "display_data",
          "data": {
            "image/png": "[encoded data removed]",
            "text/plain": [
              "<Figure size 432x288 with 1 Axes>"
            ]
          },
          "metadata": {
            "tags": [],
            "needs_background": "light"
          }
        }
      ]
    },
    {
      "cell_type": "markdown",
      "metadata": {
        "id": "EuIjr2UZujl6"
      },
      "source": [
        "##Model Inference\n",
        "\n",
        "The model for inference is slightly different from the trained model. Here instead of feeding the decoder with input for every timestep, we start by feeding 'xstartx' token. The prediction of the decoder at timestep t act as input for timestep t+1."
      ]
    },
    {
      "cell_type": "code",
      "metadata": {
        "id": "kBsLC25qCG7Q"
      },
      "source": [
        "# encoder inference\n",
        "encoder_model = tf.keras.models.Model(inputs=encoder_inputs,outputs=[state_h, state_c])\n",
        "\n",
        "# decoder inference\n",
        "# Below tensors will hold the states of the previous time step\n",
        "decoder_state_input_h = tf.keras.layers.Input(shape=(latent_dim,))\n",
        "decoder_state_input_c = tf.keras.layers.Input(shape=(latent_dim,))\n",
        "\n",
        "# Get the embeddings of the decoder sequence\n",
        "dec_emb2= dec_emb_layer(decoder_inputs)\n",
        "\n",
        "# To predict the next word in the sequence, set the initial states to the states from the previous time step\n",
        "decoder_outputs2, state_h2, state_c2 = decoder_lstm(dec_emb2, initial_state=[decoder_state_input_h, decoder_state_input_c])\n",
        "\n",
        "# A dense softmax layer to generate prob dist. over the target vocabulary\n",
        "decoder_outputs3 = decoder_dense(decoder_outputs2)\n",
        "\n",
        "# Final decoder model\n",
        "decoder_model = tf.keras.models.Model(\n",
        "[decoder_inputs] + [decoder_state_input_h, decoder_state_input_c],\n",
        "[decoder_outputs3] + [state_h2, state_c2])"
      ],
      "execution_count": null,
      "outputs": []
    },
    {
      "cell_type": "code",
      "metadata": {
        "id": "5iUTsckcUgTW"
      },
      "source": [
        "#Some useful dictionaries\n",
        "reverse_target_word_index = y_tokenizer.index_word.copy() \n",
        "reverse_source_word_index = x_tokenizer.index_word.copy()\n",
        "target_word_index = y_tokenizer.word_index.copy()"
      ],
      "execution_count": null,
      "outputs": []
    },
    {
      "cell_type": "code",
      "metadata": {
        "id": "5ObSFSjVFXnU"
      },
      "source": [
        "#Let the padding token '0' represent empty string\n",
        "reverse_target_word_index[0] = ''\n",
        "\n",
        "#It's handy to vecotrize mapping from index word operation in numpy.\n",
        "rtwi = np.vectorize(reverse_target_word_index.get)\n",
        "\n",
        "#Decode output\n",
        "def predict_sequences(input_seq):\n",
        "\n",
        "  # Encode the input as state vectors.\n",
        "  e_h, e_c = encoder_model.predict(input_seq)\n",
        "  # input_seq.shape[0] -> BS\n",
        "  # \"e_out\" - (BS, 80, 256), \"e_h\" - (BS, 256), \"e_c\" - (BS, 256)\n",
        "  \n",
        "  # Generate empty target sequence of length 1.\n",
        "  target_seq = np.zeros(input_seq.shape[0])\n",
        "\n",
        "  # Chose the 'start' word as the first words of the target sequences\n",
        "  target_seq.fill(target_word_index['xstartx'])\n",
        "\n",
        "  #This will store the string representation of decoded sequence\n",
        "  decoded_sentence = np.chararray(shape=(input_seq.shape[0],1), unicode=True)\n",
        "\n",
        "  for i in range(MAX_SUM_LEN):\n",
        "\n",
        "      output_tokens, h, c = decoder_model.predict([target_seq.reshape(-1,1)] + [e_h, e_c])\n",
        "      # \"output_tokens\" - (BS, 1, 13871), \"h\" - (BS, 256), \"c\" - (BS, 256)\n",
        "      \n",
        "      # Pick the max probability token for each sequence\n",
        "      sampled_token_index = np.argmax(output_tokens, axis=-1)\n",
        "      #shape - (BS,1)\n",
        "\n",
        "      #Map the index to corresponding word and\n",
        "      #concatenate it with the decoded_sequence\n",
        "      decoded_sentence = decoded_sentence + np.char.add(rtwi(sampled_token_index),' ') \n",
        "\n",
        "      # Update the target sequence to newly predicted outputs.\n",
        "      target_seq = sampled_token_index.ravel()\n",
        "\n",
        "      # Update internal states\n",
        "      e_h, e_c = h, c\n",
        "\n",
        "  #Return after remove and stripping whitespace  \n",
        "  return decoded_sentence.replace('xendx', '').strip()"
      ],
      "execution_count": null,
      "outputs": []
    },
    {
      "cell_type": "code",
      "metadata": {
        "id": "S3Wfhj8kF0N-"
      },
      "source": [
        "##Create a dictionary for inference on validation data\n",
        "infer_dict = {'val_text': [], 'val_true': [], 'val_pred': [], 'bleu_score': []}\n",
        "\n",
        "val_true = np.char.array(y_tokenizer.sequences_to_texts(y_val), unicode=True).replace('xstartx','').replace('xendx', '').strip()\n",
        "infer_dict['val_true'] = val_true.tolist()\n",
        "infer_dict['val_text'] = x_tokenizer.sequences_to_texts(x_val)\n",
        "infer_dict['val_pred'] = predict_sequences(x_val).ravel().tolist()"
      ],
      "execution_count": null,
      "outputs": []
    },
    {
      "cell_type": "code",
      "metadata": {
        "colab": {
          "base_uri": "https://localhost:8080/"
        },
        "id": "JLlojIMLF0Qb",
        "outputId": "3e488d4d-d7d1-492e-8bed-a245a7329dc4"
      },
      "source": [
        "#Calculate bleu score\n",
        "infer_dict['bleu_score'] = [sentence_bleu([r.split()], h.split(), weights=[1,0,0,0]) \n",
        "                            for r,h in zip(infer_dict['val_true'], infer_dict['val_pred'])]"
      ],
      "execution_count": null,
      "outputs": [
        {
          "output_type": "stream",
          "text": [
            "/usr/local/lib/python3.7/dist-packages/nltk/translate/bleu_score.py:490: UserWarning: \n",
            "Corpus/Sentence contains 0 counts of 2-gram overlaps.\n",
            "BLEU scores might be undesirable; use SmoothingFunction().\n",
            "  warnings.warn(_msg)\n",
            "/usr/local/lib/python3.7/dist-packages/nltk/translate/bleu_score.py:490: UserWarning: \n",
            "Corpus/Sentence contains 0 counts of 3-gram overlaps.\n",
            "BLEU scores might be undesirable; use SmoothingFunction().\n",
            "  warnings.warn(_msg)\n",
            "/usr/local/lib/python3.7/dist-packages/nltk/translate/bleu_score.py:490: UserWarning: \n",
            "Corpus/Sentence contains 0 counts of 4-gram overlaps.\n",
            "BLEU scores might be undesirable; use SmoothingFunction().\n",
            "  warnings.warn(_msg)\n"
          ],
          "name": "stderr"
        }
      ]
    },
    {
      "cell_type": "code",
      "metadata": {
        "colab": {
          "base_uri": "https://localhost:8080/",
          "height": 195
        },
        "id": "WmfK4v6BF0Sa",
        "outputId": "de93b13e-3580-4aac-c1c2-ebc2a7d07983"
      },
      "source": [
        "#Make a dataframe from inference dictionary and export it\n",
        "infer_df = pd.DataFrame(infer_dict)\n",
        "infer_df.to_csv(os.path.join(csv_dir, f'{model_name}_infer.csv'))\n",
        "\n",
        "infer_df.head()"
      ],
      "execution_count": null,
      "outputs": [
        {
          "output_type": "execute_result",
          "data": {
            "text/html": [
              "<div>\n",
              "<style scoped>\n",
              "    .dataframe tbody tr th:only-of-type {\n",
              "        vertical-align: middle;\n",
              "    }\n",
              "\n",
              "    .dataframe tbody tr th {\n",
              "        vertical-align: top;\n",
              "    }\n",
              "\n",
              "    .dataframe thead th {\n",
              "        text-align: right;\n",
              "    }\n",
              "</style>\n",
              "<table border=\"1\" class=\"dataframe\">\n",
              "  <thead>\n",
              "    <tr style=\"text-align: right;\">\n",
              "      <th></th>\n",
              "      <th>val_text</th>\n",
              "      <th>val_true</th>\n",
              "      <th>val_pred</th>\n",
              "      <th>bleu_score</th>\n",
              "    </tr>\n",
              "  </thead>\n",
              "  <tbody>\n",
              "    <tr>\n",
              "      <th>0</th>\n",
              "      <td>recently student class brought liquorice share...</td>\n",
              "      <td>mmmmm good</td>\n",
              "      <td>great product but pricey</td>\n",
              "      <td>0.000000</td>\n",
              "    </tr>\n",
              "    <tr>\n",
              "      <th>1</th>\n",
              "      <td>coffee drinkers tastes wide varied like coffee...</td>\n",
              "      <td>not great not terrible</td>\n",
              "      <td>strong but not as good as it gets</td>\n",
              "      <td>0.125000</td>\n",
              "    </tr>\n",
              "    <tr>\n",
              "      <th>2</th>\n",
              "      <td>one best tasting granola good ceral well regul...</td>\n",
              "      <td>great tasting but bit pricey</td>\n",
              "      <td>great snack</td>\n",
              "      <td>0.111565</td>\n",
              "    </tr>\n",
              "    <tr>\n",
              "      <th>3</th>\n",
              "      <td>say wow tangy sweet fruity refreshing hard ima...</td>\n",
              "      <td>the gum chewing has been waiting for</td>\n",
              "      <td>great taste</td>\n",
              "      <td>0.000000</td>\n",
              "    </tr>\n",
              "    <tr>\n",
              "      <th>4</th>\n",
              "      <td>used eating flaxseed brownie hodgson mill brow...</td>\n",
              "      <td>delicious brownie</td>\n",
              "      <td>delicious and easy to make</td>\n",
              "      <td>0.200000</td>\n",
              "    </tr>\n",
              "  </tbody>\n",
              "</table>\n",
              "</div>"
            ],
            "text/plain": [
              "                                            val_text  ... bleu_score\n",
              "0  recently student class brought liquorice share...  ...   0.000000\n",
              "1  coffee drinkers tastes wide varied like coffee...  ...   0.125000\n",
              "2  one best tasting granola good ceral well regul...  ...   0.111565\n",
              "3  say wow tangy sweet fruity refreshing hard ima...  ...   0.000000\n",
              "4  used eating flaxseed brownie hodgson mill brow...  ...   0.200000\n",
              "\n",
              "[5 rows x 4 columns]"
            ]
          },
          "metadata": {
            "tags": []
          },
          "execution_count": 28
        }
      ]
    },
    {
      "cell_type": "code",
      "metadata": {
        "colab": {
          "base_uri": "https://localhost:8080/"
        },
        "id": "c89BiC9LGmIq",
        "outputId": "efdf5c38-60c6-4c0e-82d8-8da75c0e3658"
      },
      "source": [
        "#Print some random results\n",
        "print(\"Let's print some random results from inference dataframe -\")\n",
        "for i, row in infer_df.sample(5).iterrows():\n",
        "  \n",
        "  print(\"\\nText: \", row['val_text'])\n",
        "  print(\"Original Summary: \", row['val_true'])\n",
        "  print(\"Predicted Summary: \", row['val_pred'])\n",
        "  print(\"BLEU unigram score: \", row['bleu_score'])\n",
        "\n",
        "print(\"\\nAverage BLEU score: \", infer_df.bleu_score.mean())"
      ],
      "execution_count": null,
      "outputs": [
        {
          "output_type": "stream",
          "text": [
            "Let's print some random results from inference dataframe -\n",
            "\n",
            "Text:  using product years bolster immune system late know catch used healthy minimal seasonal ailments years also aware antioxidant cancer fighting properties\n",
            "Original Summary:  flor essence tea\n",
            "Predicted Summary:  the best\n",
            "BLEU unigram score:  0.0\n",
            "\n",
            "Text:  great bold taste aroma would recommend coffee drinkers enjoy strong cup coffee tha pods greener packaging good job san francisco bay fairly priced\n",
            "Original Summary:  bold cup of coffee\n",
            "Predicted Summary:  good coffee\n",
            "BLEU unigram score:  0.18393972058572117\n",
            "\n",
            "Text:  dark rich unsweetened cocoa italy great fat content added touch vanilla beans like cocoa ever cooked baked dutch processed intense immediate chocolate flavor smell well imagine recipes treat keep cocoa powder repertoire\n",
            "Original Summary:  one of the very best\n",
            "Predicted Summary:  good chocolate but not great\n",
            "BLEU unigram score:  0.0\n",
            "\n",
            "Text:  like baste heavily pork roast serve extra side family loves\n",
            "Original Summary:  great taste\n",
            "Predicted Summary:  good stuff\n",
            "BLEU unigram score:  0.0\n",
            "\n",
            "Text:  wilderness family naturals offers many delicious products life short ruin body junky trans soy canola stepped processed extensively gmo mayo best ever tasted fats high caliber yes pricy look getting balanced fats formulated mary mind know get educated good fats buy taste great mayo\n",
            "Original Summary:  quality mayo\n",
            "Predicted Summary:  delicious and easy\n",
            "BLEU unigram score:  0.0\n",
            "\n",
            "Average BLEU score:  0.07873461648958564\n"
          ],
          "name": "stdout"
        }
      ]
    }
  ]
}