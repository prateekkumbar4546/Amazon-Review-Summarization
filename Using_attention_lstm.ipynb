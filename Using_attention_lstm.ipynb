{
  "nbformat": 4,
  "nbformat_minor": 0,
  "metadata": {
    "colab": {
      "name": "ts_attention_lstm.ipynb",
      "provenance": [],
      "collapsed_sections": []
    },
    "kernelspec": {
      "name": "python3",
      "display_name": "Python 3"
    },
    "language_info": {
      "name": "python"
    }
  },
  "cells": [
    {
      "cell_type": "markdown",
      "metadata": {
        "id": "mZh1M9YyHTt1"
      },
      "source": [
        "#Text Summarization\n",
        "---\n",
        "\n",
        "\n",
        "Text summarization is a technique to abridge lengthy and voluminous pieces of information. The motive is to shorten the text while keeping the semantics and the key message intact. This task falls under two categories:\n",
        "\n",
        "1. Extractive Summarization\n",
        "2. Abstractive Summarization\n",
        "\n",
        "Consider the below text,\n",
        "\n",
        "```\"Peter and Elizabeth took a taxi to attend the night party in the city. While in the party, Elizabeth collapsed and was rushed to the hospital.\"```\n",
        "\n",
        "<br>\n",
        "\n",
        "**Extractive Summarization**, as the name suggests, extracts some parts of text that it deems to be valuable and concatenates them to obtain a summary. Though the summary is semantically less accurate. For example, using extractive summarization the above sentence is summarized as ```\"Peter and Elizabeth attend party city. Elizabeth rushed hospital.\"``` The techniques involved here fall under the set of unsupervised algorithms of Machine Learning, like Markov Chains, TextRank (influenced from Google's PageRank), Latent Semantic Analysis, Bayesian Topic Models and so on. They are computationally less intensive than their abstractive counterparts.\n",
        "\n",
        "<br>  \n",
        "\n",
        "On the contrary, **Abstractive Summarization** reduces the length of the text while maintaining semantics. The output makes sense, and is close to human language. For example, the reference text is summarized as ```\"Elizabeth was hospitalized after attending a party with Peter.\"``` Deep Learning models that deals with sequential data like LSTM's are used here. They are called sequence-to-sequence models which are based on encoder decoder architectures. However, this is a supervised technique and requires corresponding summaries to text as labels.  \n",
        "\n",
        "<br>\n",
        "\n",
        "Here, we deal with abstractive summarization technique using attention mechanism with LSTM cells."
      ]
    },
    {
      "cell_type": "code",
      "metadata": {
        "colab": {
          "base_uri": "https://localhost:8080/"
        },
        "id": "5vTxnZApfqf2",
        "outputId": "58d8d105-cfd6-4ea1-87c7-da3bda021609"
      },
      "source": [
        "#Import libraries\n",
        "import numpy as np\n",
        "import pandas as pd\n",
        "import matplotlib.pyplot as plt\n",
        "from bs4 import BeautifulSoup\n",
        "import re\n",
        "import os\n",
        "import pickle\n",
        "from google.colab import drive\n",
        "\n",
        "import nltk\n",
        "nltk.download('stopwords')\n",
        "from nltk.corpus import stopwords\n",
        "from nltk.translate.bleu_score import sentence_bleu, corpus_bleu\n",
        "from sklearn.model_selection import train_test_split\n",
        "\n",
        "import tensorflow as tf\n",
        "import tensorflow_datasets as tfds\n",
        "from tensorflow.keras.preprocessing.text import Tokenizer\n",
        "from tensorflow.keras.preprocessing.sequence import pad_sequences\n",
        "from tensorflow.keras import backend as K"
      ],
      "execution_count": null,
      "outputs": [
        {
          "output_type": "stream",
          "text": [
            "[nltk_data] Downloading package stopwords to /root/nltk_data...\n",
            "[nltk_data]   Package stopwords is already up-to-date!\n"
          ],
          "name": "stdout"
        }
      ]
    },
    {
      "cell_type": "markdown",
      "metadata": {
        "id": "zj3KSaQOhlhe"
      },
      "source": [
        "##Dataset Description:\n",
        "\n",
        "This dataset consists of reviews of fine foods from amazon. The data span a period of more than 10 years, including all ~500,000 reviews up to October 2012. Reviews include product and user information, ratings, and a plain text review. It also includes reviews from all other Amazon categories.\n",
        "\n",
        "<br>Data includes:\n",
        "\n",
        "* Reviews from Oct 1999 - Oct 2012\n",
        "* 568,454 reviews\n",
        "* 256,059 users\n",
        "* 74,258 products\n",
        "\n",
        "It consists of following columns: \\['**Id**', '**ProductId**', '**UserId**', '**ProfileName**', '**HelpfulnessNumerator**', '**HelpfulnessDenominator**', '**Score**', '**Time**', '**Summary**', '**Text**']. However, we are only concerned with the Text and Summary. \n",
        "\n",
        "Data is available as a part of a [Kaggle competition](https://www.kaggle.com/snap/amazon-fine-food-reviews) and is stored in google drive for ease in access."
      ]
    },
    {
      "cell_type": "code",
      "metadata": {
        "colab": {
          "base_uri": "https://localhost:8080/"
        },
        "id": "LQNe2B8QY1Je",
        "outputId": "803f24c6-0140-4906-f795-044399889b6d"
      },
      "source": [
        "#Download the dataset and read it\n",
        "!gdown --id 1FyIy2yUM9CAA8wBH_wxyZpHR4fxVuTdQ #Dataset\n",
        "!gdown --id 1sPBc_5oE7GA-zA_MDYzRSDyijDPvUr0j #Contraction dictionary"
      ],
      "execution_count": null,
      "outputs": [
        {
          "output_type": "stream",
          "text": [
            "Downloading...\n",
            "From: https://drive.google.com/uc?id=1FyIy2yUM9CAA8wBH_wxyZpHR4fxVuTdQ\n",
            "To: /content/Reviews.csv\n",
            "301MB [00:02, 128MB/s]\n",
            "Downloading...\n",
            "From: https://drive.google.com/uc?id=1sPBc_5oE7GA-zA_MDYzRSDyijDPvUr0j\n",
            "To: /content/contraction_dict.pickle\n",
            "100% 3.55k/3.55k [00:00<00:00, 4.48MB/s]\n"
          ],
          "name": "stdout"
        }
      ]
    },
    {
      "cell_type": "code",
      "metadata": {
        "colab": {
          "base_uri": "https://localhost:8080/",
          "height": 195
        },
        "id": "XO0B2JDJmA4c",
        "outputId": "8cc4c430-e900-46c5-eabb-d2659353b348"
      },
      "source": [
        "#Read the csv\n",
        "#\n",
        "# Considering the training time and colab hardware restrictions, \n",
        "# it is advisable to train the model on a fraction of the data.\n",
        "# 100000 rows would suffice here.\n",
        "df = pd.read_csv('Reviews.csv', usecols=['Summary', 'Text'], nrows=100000)\n",
        "\n",
        "#Dropping duplicate text\n",
        "df.drop_duplicates(subset=['Text'],inplace=True)\n",
        "df.dropna(axis=0,inplace=True)\n",
        "\n",
        "#Check out the data\n",
        "df.head(5)"
      ],
      "execution_count": null,
      "outputs": [
        {
          "output_type": "execute_result",
          "data": {
            "text/html": [
              "<div>\n",
              "<style scoped>\n",
              "    .dataframe tbody tr th:only-of-type {\n",
              "        vertical-align: middle;\n",
              "    }\n",
              "\n",
              "    .dataframe tbody tr th {\n",
              "        vertical-align: top;\n",
              "    }\n",
              "\n",
              "    .dataframe thead th {\n",
              "        text-align: right;\n",
              "    }\n",
              "</style>\n",
              "<table border=\"1\" class=\"dataframe\">\n",
              "  <thead>\n",
              "    <tr style=\"text-align: right;\">\n",
              "      <th></th>\n",
              "      <th>Summary</th>\n",
              "      <th>Text</th>\n",
              "    </tr>\n",
              "  </thead>\n",
              "  <tbody>\n",
              "    <tr>\n",
              "      <th>0</th>\n",
              "      <td>Good Quality Dog Food</td>\n",
              "      <td>I have bought several of the Vitality canned d...</td>\n",
              "    </tr>\n",
              "    <tr>\n",
              "      <th>1</th>\n",
              "      <td>Not as Advertised</td>\n",
              "      <td>Product arrived labeled as Jumbo Salted Peanut...</td>\n",
              "    </tr>\n",
              "    <tr>\n",
              "      <th>2</th>\n",
              "      <td>\"Delight\" says it all</td>\n",
              "      <td>This is a confection that has been around a fe...</td>\n",
              "    </tr>\n",
              "    <tr>\n",
              "      <th>3</th>\n",
              "      <td>Cough Medicine</td>\n",
              "      <td>If you are looking for the secret ingredient i...</td>\n",
              "    </tr>\n",
              "    <tr>\n",
              "      <th>4</th>\n",
              "      <td>Great taffy</td>\n",
              "      <td>Great taffy at a great price.  There was a wid...</td>\n",
              "    </tr>\n",
              "  </tbody>\n",
              "</table>\n",
              "</div>"
            ],
            "text/plain": [
              "                 Summary                                               Text\n",
              "0  Good Quality Dog Food  I have bought several of the Vitality canned d...\n",
              "1      Not as Advertised  Product arrived labeled as Jumbo Salted Peanut...\n",
              "2  \"Delight\" says it all  This is a confection that has been around a fe...\n",
              "3         Cough Medicine  If you are looking for the secret ingredient i...\n",
              "4            Great taffy  Great taffy at a great price.  There was a wid..."
            ]
          },
          "metadata": {
            "tags": []
          },
          "execution_count": 11
        }
      ]
    },
    {
      "cell_type": "markdown",
      "metadata": {
        "id": "IA7rCSwOJDJ4"
      },
      "source": [
        "##Preprocessing data\n",
        "\n",
        "Text,\n",
        "\n",
        "* Lowercase the string.\n",
        "* Remove any <> xml or html tags.\n",
        "* Remove text in brackets.\n",
        "* Remove double quotes.\n",
        "* Expand contractions using the above dictionary.\n",
        "* Remove apostrophe s.\n",
        "* Keep alphabets only. No digits, punctuations or special characters.\n",
        "* Keep tokens of length >= 3.\n",
        "\n",
        "<br>\n",
        "\n",
        "Summary,\n",
        "\n",
        "* Lowercase the string.\n",
        "* Remove double quotes.\n",
        "* Expand contractions using the above dictionary.\n",
        "* Remove apostrophe s.\n",
        "* Keep alphabets only. No digits, punctuations or special characters.\n",
        "* Keep tokens of length > 1.\n"
      ]
    },
    {
      "cell_type": "code",
      "metadata": {
        "id": "qlp7wcViiwE1"
      },
      "source": [
        "#Download stopwords\n",
        "stop_words = set(stopwords.words('english'))\n",
        "\n",
        "#Load the contraction_dict\n",
        "#It maps 'I've' -> 'I have'\n",
        "with open('contraction_dict.pickle', 'rb') as handle:\n",
        "    contraction_mapping = pickle.load(handle)\n",
        "\n",
        "# Preprocess Text\n",
        "def text_cleaner(review):\n",
        "    \n",
        "    review = review.lower()\n",
        "    review = BeautifulSoup(review, \"lxml\").text\n",
        "    review = re.sub(r'\\([^)]*\\)', '', review)\n",
        "    review = re.sub('\"','', review)\n",
        "    review = ' '.join([contraction_mapping[t] if t in contraction_mapping else t for t in review.split(\" \")])    \n",
        "    review = re.sub(r\"'s\\b\",\"\",review)\n",
        "    review = re.sub(\"[^a-zA-Z]\", \" \", review) \n",
        "    review = [w for w in review.split() if w not in stop_words]\n",
        "    \n",
        "    return \" \".join([i for i in review if len(i)>2])\n",
        "\n",
        "#Preprocess Summary\n",
        "def summary_cleaner(summary):\n",
        "    \n",
        "    summary = re.sub('\"','', summary)\n",
        "    summary = ' '.join([contraction_mapping[t] if t in contraction_mapping else t for t in summary.split(\" \")])    \n",
        "    summary = re.sub(r\"'s\\b\",\"\",summary)\n",
        "    summary = re.sub(\"[^a-zA-Z]\", \" \", summary)\n",
        "    summary = summary.lower()\n",
        "    summary= summary.split()\n",
        "    \n",
        "    return \" \".join([i for i in summary if len(i)>1])"
      ],
      "execution_count": null,
      "outputs": []
    },
    {
      "cell_type": "code",
      "metadata": {
        "id": "arxS13RjnmXV",
        "colab": {
          "base_uri": "https://localhost:8080/"
        },
        "outputId": "7fabe452-2580-4660-f36e-aa696825418a"
      },
      "source": [
        "#Apply the functions to our dataset\n",
        "df.Text = df.Text.apply(text_cleaner)\n",
        "df.Summary = df.Summary.apply(summary_cleaner)\n",
        "\n",
        "#Dropping empty strings\n",
        "df['Summary'].replace('', np.nan, inplace=True)\n",
        "df.dropna(axis=0,inplace=True)\n",
        "\n",
        "#Check out the preprocessed data\n",
        "print(df.head(5))\n",
        "print(\"No of rows post processing: \", df.shape[0])"
      ],
      "execution_count": null,
      "outputs": [
        {
          "output_type": "stream",
          "text": [
            "                 Summary                                               Text\n",
            "0  good quality dog food  bought several vitality canned dog food produc...\n",
            "1      not as advertised  product arrived labeled jumbo salted peanuts p...\n",
            "2    delight says it all  confection around centuries light pillowy citr...\n",
            "3         cough medicine  looking secret ingredient robitussin believe f...\n",
            "4            great taffy  great taffy great price wide assortment yummy ...\n",
            "No of rows post processing:  88356\n"
          ],
          "name": "stdout"
        }
      ]
    },
    {
      "cell_type": "code",
      "metadata": {
        "colab": {
          "base_uri": "https://localhost:8080/",
          "height": 314
        },
        "id": "5qAxjxDCnjIb",
        "outputId": "bf90ad18-564f-45e9-828e-a62cd0510c41"
      },
      "source": [
        "#Analyse the len of texts and summaries\n",
        "#Finalize maximum text and summary length\n",
        "text_word_count = np.array([len(w.split()) for w in df.Text], dtype='int')\n",
        "summary_word_count = np.array([len(w.split()) for w in df.Summary], dtype='int')\n",
        "\n",
        "pd.DataFrame({\"text_count\":text_word_count, \"summary_count\":summary_word_count}).hist()\n",
        "\n",
        "#Set the maximum lengths\n",
        "MAX_TEXT_LEN = 80\n",
        "MAX_SUM_LEN = 10\n",
        "\n",
        "print(\"Fraction of texts with less than {} words is {}\".format(MAX_TEXT_LEN, np.mean(text_word_count<MAX_TEXT_LEN) ))\n",
        "print(\"Fraction of summaries with less than {} words is {}\".format(MAX_SUM_LEN, np.mean(summary_word_count<MAX_SUM_LEN)))"
      ],
      "execution_count": null,
      "outputs": [
        {
          "output_type": "stream",
          "text": [
            "Fraction of texts with less than 80 words is 0.9070464937299109\n",
            "Fraction of summaries with less than 10 words is 0.9646430349947938\n"
          ],
          "name": "stdout"
        },
        {
          "output_type": "display_data",
          "data": {
            "image/png": "[encoded data removed]",
            "text/plain": [
              "<Figure size 432x288 with 2 Axes>"
            ]
          },
          "metadata": {
            "tags": [],
            "needs_background": "light"
          }
        }
      ]
    },
    {
      "cell_type": "code",
      "metadata": {
        "id": "wH8gUTWMpE47",
        "colab": {
          "base_uri": "https://localhost:8080/"
        },
        "outputId": "236923fd-5bc4-4c0f-adfb-69e7e455c134"
      },
      "source": [
        "#Truncate text to MAX_TEXT_LEN \n",
        "#Truncate summary to (MAX_SUM_LEN - 2), prepend start token 'xstartx' and append end token 'xendx'\n",
        "df_pro = pd.DataFrame()\n",
        "\n",
        "df_pro['Text'] = df['Text'].map(lambda text: ' '.join(text.split()[-(MAX_TEXT_LEN-2):]))\n",
        "df_pro['Summary'] = df['Summary'].map(lambda text: ' '.join(['xstartx'] + text.split()[-(MAX_SUM_LEN-2):] + ['xendx']))\n",
        "\n",
        "#Check out the result\n",
        "for _, row in df_pro.sample(5).iterrows():\n",
        "    print(\"Review_{}: {}\".format(len(row['Text'].split()), row['Text']))\n",
        "    print(\"Summary_{}: {}\".format(len(row['Summary'].split()), row['Summary']))\n",
        "    print(\"\")"
      ],
      "execution_count": null,
      "outputs": [
        {
          "output_type": "stream",
          "text": [
            "Review_43: give coffee years ago due medical condition tried many different kinds favors tea stumbled upon small bakery recently opened nearby loved drinking every morning since past couple years sachets perfect larger mug paper wrapped fine smaller cups mugs hearty tea find satisfying delicious\n",
            "Summary_4: xstartx totally delicious xendx\n",
            "\n",
            "Review_18: taste one better tasting larabars slight sour taste dried fruit pieces less noticeable others pretty good definitely filling\n",
            "Summary_5: xstartx good tasting bar xendx\n",
            "\n",
            "Review_10: bought product problem give coffee like well use time nowmitchell\n",
            "Summary_8: xstartx twinings earl grey decaf tea cups xendx\n",
            "\n",
            "Review_8: stuff good amazing jar sauce could recommend highly\n",
            "Summary_6: xstartx will make this short xendx\n",
            "\n",
            "Review_23: family absolutely loves crystal light raspberry tea mix local grocery stores started carrying green tea version good happy find product amazon definitely ordering\n",
            "Summary_4: xstartx love it xendx\n",
            "\n"
          ],
          "name": "stdout"
        }
      ]
    },
    {
      "cell_type": "markdown",
      "metadata": {
        "id": "AkCDN71KLKhM"
      },
      "source": [
        "###Data Preparation\n",
        "\n",
        "To train the model on processed data, further processing is required\n",
        "\n",
        "* Splitting the dataset into train(90%) and validation dataset(10%)\n",
        "* Tokenize the strings.\n",
        "* Pad sequences in the end with 0's until they reach MAX Length(Text: 80, Summary: 10).\n",
        "* Set vocab size <- vocab_size + 1(additional 0 for padding)"
      ]
    },
    {
      "cell_type": "code",
      "metadata": {
        "id": "388-i4g2xee1",
        "colab": {
          "base_uri": "https://localhost:8080/"
        },
        "outputId": "a4afe236-e2c8-45f5-d020-6117ec6c5391"
      },
      "source": [
        "#Splitting the train and validation set\n",
        "txt_train, txt_val, sum_train, sum_val = train_test_split(df_pro['Text'], df_pro['Summary'], test_size=0.1, random_state=0, shuffle=True)\n",
        "\n",
        "#Check out the shapes of the resulting partition\n",
        "print('Rows -> txt_train: {}, txt_val: {}, sum_train: {}, sum_val: {}'.\n",
        "      format(txt_train.shape[0], txt_val.shape[0], sum_train.shape[0], sum_val.shape[0]))\n",
        "\n",
        "#prepare a tokenizer for reviews on training data\n",
        "x_tokenizer = Tokenizer()\n",
        "x_tokenizer.fit_on_texts(txt_train.tolist())\n",
        "\n",
        "#convert text sequences into integer sequences\n",
        "x_tr    =   x_tokenizer.texts_to_sequences(txt_train) \n",
        "x_val   =   x_tokenizer.texts_to_sequences(txt_val)\n",
        "\n",
        "#padding zero upto maximum length\n",
        "x_tr    =   pad_sequences(x_tr,  maxlen=MAX_TEXT_LEN, padding='post') \n",
        "x_val   =   pad_sequences(x_val, maxlen=MAX_TEXT_LEN, padding='post')\n",
        "\n",
        "#Set vocab size to #Unique_words + 1(for 0 which is padding)\n",
        "x_voc_size   =  len(x_tokenizer.word_index) +1\n",
        "\n",
        "#Sanity Check\n",
        "print('\\nx_tr.shape: ', x_tr.shape)\n",
        "print('x_val.shape: ', x_val.shape)\n",
        "\n",
        "####\n",
        "# Doing the same process for summaries\n",
        "####\n",
        "\n",
        "#preparing a tokenizer for summary on training data \n",
        "y_tokenizer = Tokenizer()\n",
        "y_tokenizer.fit_on_texts(sum_train.tolist())\n",
        "\n",
        "#convert summary sequences into integer sequences\n",
        "y_tr    =   y_tokenizer.texts_to_sequences(sum_train) \n",
        "y_val   =   y_tokenizer.texts_to_sequences(sum_val) \n",
        "\n",
        "#padding zero upto maximum length\n",
        "y_tr    =   pad_sequences(y_tr, maxlen=MAX_SUM_LEN, padding='post')\n",
        "y_val   =   pad_sequences(y_val, maxlen=MAX_SUM_LEN, padding='post')\n",
        "\n",
        "#Set vocab size to #Unique_words + 1(for 0 which is padding)\n",
        "y_voc_size  =   len(y_tokenizer.word_index) +1\n",
        "\n",
        "#Sanity Check\n",
        "print('\\ny_tr.shape: ', y_tr.shape)\n",
        "print('y_val.shape: ', y_val.shape)\n",
        "print('\\nx_voc_size: ', x_voc_size, '\\ny_voc_size: ', y_voc_size)\n",
        "\n",
        "#Sanity Check\n",
        "for i in np.random.randint(5000, size=(5,)): \n",
        "  print('\\nTrue summary: ', y_tokenizer.sequences_to_texts([y_tr[i]]))\n",
        "  print('Processed summary: ', y_tr[i])"
      ],
      "execution_count": null,
      "outputs": [
        {
          "output_type": "stream",
          "text": [
            "Rows -> txt_train: 79520, txt_val: 8836, sum_train: 79520, sum_val: 8836\n",
            "\n",
            "x_tr.shape:  (79520, 80)\n",
            "x_val.shape:  (8836, 80)\n",
            "\n",
            "y_tr.shape:  (79520, 10)\n",
            "y_val.shape:  (8836, 10)\n",
            "\n",
            "x_voc_size:  48222 \n",
            "y_voc_size:  13871\n",
            "\n",
            "True summary:  ['xstartx almost as good as homemade xendx']\n",
            "Processed summary:  [  1 330  39   5  39 602   2   0   0   0]\n",
            "\n",
            "True summary:  ['xstartx tommyo xendx']\n",
            "Processed summary:  [   1 7343    2    0    0    0    0    0    0    0]\n",
            "\n",
            "True summary:  ['xstartx no longer chewy xendx']\n",
            "Processed summary:  [  1  49 837 470   2   0   0   0   0   0]\n",
            "\n",
            "True summary:  ['xstartx it little thin for honey substitute xendx']\n",
            "Processed summary:  [  1  10  78 614   6 231 283   2   0   0]\n",
            "\n",
            "True summary:  ['xstartx tasty healthy snack xendx']\n",
            "Processed summary:  [ 1 31 52 46  2  0  0  0  0  0]\n"
          ],
          "name": "stdout"
        }
      ]
    },
    {
      "cell_type": "markdown",
      "metadata": {
        "id": "HCGuuOqNUKWd"
      },
      "source": [
        "## Model Building\n",
        "\n",
        "The seq2seq model is an encoder decoder architecture.\n",
        "\n",
        "The encoder model consists of following parts-\n",
        "\n",
        "1. Embedding layer with latent dimension = 256\n",
        "  * Input: (None, 80)\n",
        "  * Output: (None, 80, 256)\n",
        "\n",
        "2. 3 LSTM layers stacked, with same latent dimension and same i/p and o/p size\n",
        "  * Input: (None, 80, 256)\n",
        "  * Output: \"Hidden_state\" - (None, 80, 256), \"state_h\" - (None, 256), \"state_c\" - (None, 256) \n",
        "\n",
        "The decoder model is made up of-\n",
        "\n",
        "1. Embedding Layer with same latent dimension\n",
        "  * Input: (None,) **Note: Here we avoid specifying sequence length of summary, since in inference phase we would like to predict 1 word at a time.**\n",
        "  * Output: (None, None, 256)\n",
        "\n",
        "2. LSTM layer\n",
        "  * Input: (None, None, 256)\n",
        "  * Output: \"Hidden_state\" - (None, None, 256), \"state_h\" - (None, 256), \"state_c\" - (None, 256)\n",
        "\n",
        "3. TimeDistributed Layer with softmax activation\n",
        "  * Input: (None, None, 256)\n",
        "  * Output: (None, None, 13871)\n",
        "\n",
        "The encoder and decoder model are interconnected by the means of **Attention Mechanism**. \n",
        "\n",
        "The job of encoder is to store the information of complete sequence in a fixed length vector. The decoder is initialised with this vector and it produces output sequences. Sometimes, when the input sequence is large enough, the information of the past gets lost in the vector. Attention is a technique which considers encoder output at every time-step and decides how much information is to be carried forward to which decoder state. This makes sense, because in reality humans translate few words at a time rather than entire sentence at ones. The following figure is an example of one such attention mechanism known as Bahdanau Attention.\n",
        "\n",
        "<figure>\n",
        "    <img src='https://blog.floydhub.com/content/images/2019/09/Slide38.JPG' alt=\"Image not available\" width=\"800\" height=\"400\">\n",
        "<figcaption>Image_credit: https://blog.floydhub.com/attention-mechanism/</figcaption>\n",
        "</figure>"
      ]
    },
    {
      "cell_type": "code",
      "metadata": {
        "id": "Ir8leu7AHgFE"
      },
      "source": [
        "#Custom Attention Layer\n",
        "#re: https://github.com/thushv89/attention_keras/blob/master/src/layers/attention.py\n",
        "class AttentionLayer(tf.keras.layers.Layer):\n",
        "    \"\"\"\n",
        "    This class implements Bahdanau attention (https://arxiv.org/pdf/1409.0473.pdf).\n",
        "    There are three sets of weights introduced W_a, U_a, and V_a\n",
        "     \"\"\"\n",
        "\n",
        "    def __init__(self, **kwargs):\n",
        "        super(AttentionLayer, self).__init__(**kwargs)\n",
        "\n",
        "    def build(self, input_shape):\n",
        "        assert isinstance(input_shape, list)\n",
        "        # Create a trainable weight variable for this layer.\n",
        "\n",
        "        self.W_a = self.add_weight(name='W_a',\n",
        "                                   shape=tf.TensorShape((input_shape[0][2], input_shape[0][2])),\n",
        "                                   initializer='uniform',\n",
        "                                   trainable=True)\n",
        "        self.U_a = self.add_weight(name='U_a',\n",
        "                                   shape=tf.TensorShape((input_shape[1][2], input_shape[0][2])),\n",
        "                                   initializer='uniform',\n",
        "                                   trainable=True)\n",
        "        self.V_a = self.add_weight(name='V_a',\n",
        "                                   shape=tf.TensorShape((input_shape[0][2], 1)),\n",
        "                                   initializer='uniform',\n",
        "                                   trainable=True)\n",
        "\n",
        "        super(AttentionLayer, self).build(input_shape)  # Be sure to call this at the end\n",
        "\n",
        "    def call(self, inputs, verbose=False):\n",
        "        \"\"\"\n",
        "        inputs: [encoder_output_sequence, decoder_output_sequence]\n",
        "        \"\"\"\n",
        "        assert type(inputs) == list\n",
        "        encoder_out_seq, decoder_out_seq = inputs\n",
        "        if verbose:\n",
        "            print('encoder_out_seq>', encoder_out_seq.shape)\n",
        "            print('decoder_out_seq>', decoder_out_seq.shape)\n",
        "\n",
        "        def energy_step(inputs, states):\n",
        "            \"\"\" Step function for computing energy for a single decoder state\n",
        "            inputs: (batchsize * 1 * de_in_dim)\n",
        "            states: (batchsize * 1 * de_latent_dim)\n",
        "            \"\"\"\n",
        "\n",
        "            assert_msg = \"States must be an iterable. Got {} of type {}\".format(states, type(states))\n",
        "            assert isinstance(states, list) or isinstance(states, tuple), assert_msg\n",
        "\n",
        "            \"\"\" Some parameters required for shaping tensors\"\"\"\n",
        "            en_seq_len, en_hidden = encoder_out_seq.shape[1], encoder_out_seq.shape[2]\n",
        "            de_hidden = inputs.shape[-1]\n",
        "\n",
        "            \"\"\" Computing S.Wa where S=[s0, s1, ..., si]\"\"\"\n",
        "            # <= batch size * en_seq_len * latent_dim\n",
        "            W_a_dot_s = K.dot(encoder_out_seq, self.W_a)\n",
        "\n",
        "            \"\"\" Computing hj.Ua \"\"\"\n",
        "            U_a_dot_h = K.expand_dims(K.dot(inputs, self.U_a), 1)  # <= batch_size, 1, latent_dim\n",
        "            if verbose:\n",
        "                print('Ua.h>', U_a_dot_h.shape)\n",
        "\n",
        "            \"\"\" tanh(S.Wa + hj.Ua) \"\"\"\n",
        "            # <= batch_size*en_seq_len, latent_dim\n",
        "            Ws_plus_Uh = K.tanh(W_a_dot_s + U_a_dot_h)\n",
        "            if verbose:\n",
        "                print('Ws+Uh>', Ws_plus_Uh.shape)\n",
        "\n",
        "            \"\"\" softmax(va.tanh(S.Wa + hj.Ua)) \"\"\"\n",
        "            # <= batch_size, en_seq_len\n",
        "            e_i = K.squeeze(K.dot(Ws_plus_Uh, self.V_a), axis=-1)\n",
        "            # <= batch_size, en_seq_len\n",
        "            e_i = K.softmax(e_i)\n",
        "\n",
        "            if verbose:\n",
        "                print('ei>', e_i.shape)\n",
        "\n",
        "            return e_i, [e_i]\n",
        "\n",
        "        def context_step(inputs, states):\n",
        "            \"\"\" Step function for computing ci using ei \"\"\"\n",
        "\n",
        "            assert_msg = \"States must be an iterable. Got {} of type {}\".format(states, type(states))\n",
        "            assert isinstance(states, list) or isinstance(states, tuple), assert_msg\n",
        "\n",
        "            # <= batch_size, hidden_size\n",
        "            c_i = K.sum(encoder_out_seq * K.expand_dims(inputs, -1), axis=1)\n",
        "            if verbose:\n",
        "                print('ci>', c_i.shape)\n",
        "            return c_i, [c_i]\n",
        "\n",
        "        fake_state_c = K.sum(encoder_out_seq, axis=1)\n",
        "        fake_state_e = K.sum(encoder_out_seq, axis=2)  # <= (batch_size, enc_seq_len, latent_dim\n",
        "\n",
        "        \"\"\" Computing energy outputs \"\"\"\n",
        "        # e_outputs => (batch_size, de_seq_len, en_seq_len)\n",
        "        last_out, e_outputs, _ = K.rnn(\n",
        "            energy_step, decoder_out_seq, [fake_state_e],\n",
        "        )\n",
        "\n",
        "        \"\"\" Computing context vectors \"\"\"\n",
        "        last_out, c_outputs, _ = K.rnn(\n",
        "            context_step, e_outputs, [fake_state_c],\n",
        "        )\n",
        "\n",
        "        return c_outputs, e_outputs\n",
        "\n",
        "    def compute_output_shape(self, input_shape):\n",
        "        \"\"\" Outputs produced by the layer \"\"\"\n",
        "        return [\n",
        "            tf.TensorShape((input_shape[1][0], input_shape[1][1], input_shape[1][2])),\n",
        "            tf.TensorShape((input_shape[1][0], input_shape[1][1], input_shape[0][1]))\n",
        "        ]"
      ],
      "execution_count": null,
      "outputs": []
    },
    {
      "cell_type": "code",
      "metadata": {
        "id": "WaRdDZTU5gW4",
        "colab": {
          "base_uri": "https://localhost:8080/"
        },
        "outputId": "3188a900-c42e-43ce-861b-079ade19240d"
      },
      "source": [
        "#Building Model\n",
        "latent_dim = 256 \n",
        "\n",
        "# Encoder \n",
        "encoder_inputs = tf.keras.layers.Input(shape=(MAX_TEXT_LEN,)) \n",
        "enc_emb = tf.keras.layers.Embedding(x_voc_size, latent_dim,trainable=True)(encoder_inputs) \n",
        "\n",
        "#LSTM 1 \n",
        "encoder_lstm1 = tf.keras.layers.LSTM(latent_dim,return_sequences=True,return_state=True) \n",
        "encoder_output1, state_h1, state_c1 = encoder_lstm1(enc_emb) \n",
        "\n",
        "#LSTM 2 \n",
        "encoder_lstm2 = tf.keras.layers.LSTM(latent_dim,return_sequences=True,return_state=True) \n",
        "encoder_output2, state_h2, state_c2 = encoder_lstm2(encoder_output1) \n",
        "\n",
        "#LSTM 3 \n",
        "encoder_lstm3= tf.keras.layers.LSTM(latent_dim, return_state=True, return_sequences=True) \n",
        "encoder_outputs, state_h, state_c= encoder_lstm3(encoder_output2) \n",
        "\n",
        "# Set up the decoder. \n",
        "decoder_inputs = tf.keras.layers.Input(shape=(None,)) \n",
        "dec_emb_layer = tf.keras.layers.Embedding(y_voc_size, latent_dim,trainable=True) \n",
        "dec_emb = dec_emb_layer(decoder_inputs) \n",
        "\n",
        "#LSTM using encoder_states as initial state\n",
        "decoder_lstm = tf.keras.layers.LSTM(latent_dim, return_sequences=True, return_state=True) \n",
        "decoder_outputs,decoder_fwd_state, decoder_back_state = decoder_lstm(dec_emb,initial_state=[state_h, state_c]) \n",
        "\n",
        "#Attention Layer\n",
        "attn_layer = AttentionLayer(name='attention_layer') \n",
        "attn_out, attn_states = attn_layer([encoder_outputs, decoder_outputs]) \n",
        "\n",
        "# Concat attention output and decoder LSTM output \n",
        "decoder_concat_input = tf.keras.layers.Concatenate(axis=-1, name='concat_layer')([decoder_outputs, attn_out])\n",
        "\n",
        "#Dense layer\n",
        "decoder_dense = tf.keras.layers.TimeDistributed(tf.keras.layers.Dense(y_voc_size, activation='softmax')) \n",
        "decoder_outputs = decoder_dense(decoder_concat_input) \n",
        "\n",
        "# Define the model\n",
        "model = tf.keras.models.Model([encoder_inputs, decoder_inputs], decoder_outputs) \n",
        "model.compile(optimizer='rmsprop', loss='sparse_categorical_crossentropy')\n",
        "\n",
        "#Model Summary\n",
        "model.summary()"
      ],
      "execution_count": null,
      "outputs": [
        {
          "output_type": "stream",
          "text": [
            "Model: \"model\"\n",
            "__________________________________________________________________________________________________\n",
            "Layer (type)                    Output Shape         Param #     Connected to                     \n",
            "==================================================================================================\n",
            "input_1 (InputLayer)            [(None, 80)]         0                                            \n",
            "__________________________________________________________________________________________________\n",
            "embedding (Embedding)           (None, 80, 256)      12344832    input_1[0][0]                    \n",
            "__________________________________________________________________________________________________\n",
            "lstm (LSTM)                     [(None, 80, 256), (N 525312      embedding[0][0]                  \n",
            "__________________________________________________________________________________________________\n",
            "input_2 (InputLayer)            [(None, None)]       0                                            \n",
            "__________________________________________________________________________________________________\n",
            "lstm_1 (LSTM)                   [(None, 80, 256), (N 525312      lstm[0][0]                       \n",
            "__________________________________________________________________________________________________\n",
            "embedding_1 (Embedding)         (None, None, 256)    3550976     input_2[0][0]                    \n",
            "__________________________________________________________________________________________________\n",
            "lstm_2 (LSTM)                   [(None, 80, 256), (N 525312      lstm_1[0][0]                     \n",
            "__________________________________________________________________________________________________\n",
            "lstm_3 (LSTM)                   [(None, None, 256),  525312      embedding_1[0][0]                \n",
            "                                                                 lstm_2[0][1]                     \n",
            "                                                                 lstm_2[0][2]                     \n",
            "__________________________________________________________________________________________________\n",
            "attention_layer (AttentionLayer ((None, None, 256),  131328      lstm_2[0][0]                     \n",
            "                                                                 lstm_3[0][0]                     \n",
            "__________________________________________________________________________________________________\n",
            "concat_layer (Concatenate)      (None, None, 512)    0           lstm_3[0][0]                     \n",
            "                                                                 attention_layer[0][0]            \n",
            "__________________________________________________________________________________________________\n",
            "time_distributed (TimeDistribut (None, None, 13871)  7115823     concat_layer[0][0]               \n",
            "==================================================================================================\n",
            "Total params: 25,244,207\n",
            "Trainable params: 25,244,207\n",
            "Non-trainable params: 0\n",
            "__________________________________________________________________________________________________\n"
          ],
          "name": "stdout"
        }
      ]
    },
    {
      "cell_type": "code",
      "metadata": {
        "id": "qo8Mhb5TZn6c",
        "colab": {
          "base_uri": "https://localhost:8080/",
          "height": 856
        },
        "outputId": "ab177d65-a250-417e-c64e-aa43482485ff"
      },
      "source": [
        "#Plot the model\n",
        "tf.keras.utils.plot_model(model) #Complete model\n",
        "#tf.keras.models.Model(encoder_inputs, encoder_outputs) #Encoder Model"
      ],
      "execution_count": null,
      "outputs": [
        {
          "output_type": "execute_result",
          "data": {
            "image/png": "[encoded data removed]",
            "text/plain": [
              "<IPython.core.display.Image object>"
            ]
          },
          "metadata": {
            "tags": []
          },
          "execution_count": 20
        }
      ]
    },
    {
      "cell_type": "markdown",
      "metadata": {
        "id": "TBva7uofJMBK"
      },
      "source": [
        "### Callbacks\n",
        "\n",
        "* CSVLogger - To keep track of train and val loss.\n",
        "* EarlyStopping - To terminate training in case of overfitting.\n",
        "* ModelCheckpoint - Save model to avoid retraining if colab crashes"
      ]
    },
    {
      "cell_type": "code",
      "metadata": {
        "id": "oIJz396-8rqv",
        "colab": {
          "base_uri": "https://localhost:8080/"
        },
        "outputId": "f4a19a93-d1d0-49a1-db9e-e92db2a0d33a"
      },
      "source": [
        "#Callbacks\n",
        "#This requires a drive mount\n",
        "drive_root = '/content/drive/My Drive'\n",
        "model_name = 'attention_lstm'\n",
        "\n",
        "#Check if drive is mounted\n",
        "if not os.path.exists(drive_root):\n",
        "  print(\"Please mount google drive for this operation\")\n",
        "  drive.mount('/drive')\n",
        "\n",
        "#CSVLogger paths\n",
        "#Check if they exist\n",
        "csv_dir = os.path.join(drive_root, 'csvLogger')\n",
        "csv_filename = os.path.join(csv_dir, f'{model_name}.csv')\n",
        "\n",
        "if not os.path.exists(csv_dir):\n",
        "  os.makedirs(csv_dir)\n",
        "  print(\"CSV directory created at path: \", csv_dir)\n",
        "else:\n",
        "  print(\"CSV directory already exist at path: \", csv_dir)\n",
        "\n",
        "#ModelCheckpoint paths\n",
        "#Check if they exist\n",
        "checkpoint_dir = os.path.join(drive_root, 'checkpoints/project', model_name) #stacked_lstm checkpoints are stored here. Separate for different folders\n",
        "checkpoint_path = os.path.join(checkpoint_dir, model_name + '_e{epoch}_vl_{val_loss:0.4f}.ckpt')\n",
        "\n",
        "if not os.path.exists(checkpoint_dir):\n",
        "  os.makedirs(checkpoint_dir)\n",
        "  print(\"Checkpoints directory created at path: \", checkpoint_dir)\n",
        "else:\n",
        "  print(\"Checkpoints folder already exists at path: \", checkpoint_dir)  \n",
        "\n",
        "#Create a callback that logs the content in CSV\n",
        "csv_logger = tf.keras.callbacks.CSVLogger(csv_filename,\n",
        "                                          separator=',',\n",
        "                                          append=True)\n",
        "\n",
        "# Create a callback that stops training for no improvement\n",
        "es = tf.keras.callbacks.EarlyStopping(monitor='val_loss',\n",
        "                                      mode='min',\n",
        "                                      verbose=1,\n",
        "                                      patience=5)\n",
        "\n",
        "# Create a callback that saves the model's weights\n",
        "cp_callback = tf.keras.callbacks.ModelCheckpoint(filepath=checkpoint_path,\n",
        "                                                 save_weights_only=True,\n",
        "                                                 save_best_only=False,\n",
        "                                                 verbose=1)"
      ],
      "execution_count": null,
      "outputs": [
        {
          "output_type": "stream",
          "text": [
            "CSV directory already exist at path:  /content/drive/My Drive/csvLogger\n",
            "Checkpoints folder already exists at path:  /content/drive/My Drive/checkpoints/project/attention_lstm\n"
          ],
          "name": "stdout"
        }
      ]
    },
    {
      "cell_type": "markdown",
      "metadata": {
        "id": "_6appyBH9OKh"
      },
      "source": [
        "###Model Training\n",
        "\n",
        "1. Load the latest checkpoint if any.\n",
        "2. Resume or start training."
      ]
    },
    {
      "cell_type": "code",
      "metadata": {
        "colab": {
          "base_uri": "https://localhost:8080/"
        },
        "id": "d6KEfd1W9bNx",
        "outputId": "5571bcf4-1566-418b-c728-27df15d26144"
      },
      "source": [
        "#Load the latest checkpoint\n",
        "latest = tf.train.latest_checkpoint(checkpoint_dir)\n",
        "\n",
        "if latest != None:\n",
        "  print(\"Loading weights from: \", latest)\n",
        "  model.load_weights(latest)\n",
        "else:\n",
        "  print(\"Checkpoint not found. Starting from scratch\")"
      ],
      "execution_count": null,
      "outputs": [
        {
          "output_type": "stream",
          "text": [
            "Loading weights from:  /content/drive/My Drive/checkpoints/project/attention_lstm/attention_lstm_e24_vl_2.2893.ckpt\n"
          ],
          "name": "stdout"
        }
      ]
    },
    {
      "cell_type": "code",
      "metadata": {
        "id": "Yr_7VD-uAg06"
      },
      "source": [
        "#Model training\n",
        "#Uncomment this to train it on toy dataset, overfit and check if everything works fine.\n",
        "\n",
        "# history = model.fit([x_tr[:32],y_tr[:32,:-1]], y_tr[:32][:,1:,np.newaxis],\n",
        "#                     epochs=10, batch_size=16,\n",
        "#                     validation_data = ([x_val[:32],y_val[:32,:-1]], y_val[:32][:,1:,np.newaxis]))"
      ],
      "execution_count": null,
      "outputs": []
    },
    {
      "cell_type": "code",
      "metadata": {
        "id": "iwP3ur8raydS"
      },
      "source": [
        "#Train Model on Complete Dataset\n",
        "history = model.fit([x_tr[:],y_tr[:,:-1]], y_tr[:][:,1:,np.newaxis],\n",
        "                    epochs=50, batch_size=512, initial_epoch = 18,\n",
        "                    validation_data = ([x_val[:],y_val[:,:-1]], y_val[:][:,1:,np.newaxis]),\n",
        "                    callbacks=[cp_callback, es, csv_logger])"
      ],
      "execution_count": null,
      "outputs": []
    },
    {
      "cell_type": "code",
      "metadata": {
        "colab": {
          "base_uri": "https://localhost:8080/",
          "height": 281
        },
        "id": "L9PUUM_cMSqk",
        "outputId": "74e1611d-e494-4b10-f7eb-8de06dcc8605"
      },
      "source": [
        "#Let's check out the model performance\n",
        "perf_df = pd.read_csv(csv_filename)\n",
        "\n",
        "plt.ylim(1.4, 3.5)\n",
        "plt.plot(perf_df['loss'], label='training_loss')\n",
        "plt.plot(perf_df['val_loss'], label='validation_loss')\n",
        "plt.legend()\n",
        "plt.title(f'{model_name}')\n",
        "plt.show()"
      ],
      "execution_count": null,
      "outputs": [
        {
          "output_type": "display_data",
          "data": {
            "image/png": "[encoded data removed]",
            "text/plain": [
              "<Figure size 432x288 with 1 Axes>"
            ]
          },
          "metadata": {
            "tags": [],
            "needs_background": "light"
          }
        }
      ]
    },
    {
      "cell_type": "markdown",
      "metadata": {
        "id": "EuIjr2UZujl6"
      },
      "source": [
        "##Model Inference\n",
        "\n",
        "The model for inference is slightly different from the trained model. Here instead of feeding the decoder with input for every timestep, we start by feeding 'xstartx' token. The prediction of the decoder at timestep t act as input for timestep t+1."
      ]
    },
    {
      "cell_type": "code",
      "metadata": {
        "id": "kBsLC25qCG7Q"
      },
      "source": [
        "#Model Inference\n",
        "# encoder inference\n",
        "encoder_model = tf.keras.models.Model(inputs=encoder_inputs,outputs=[encoder_outputs, state_h, state_c])\n",
        "\n",
        "# decoder inference\n",
        "# Below tensors will hold the states of the previous time step\n",
        "decoder_state_input_h = tf.keras.layers.Input(shape=(latent_dim,))\n",
        "decoder_state_input_c = tf.keras.layers.Input(shape=(latent_dim,))\n",
        "decoder_hidden_state_input = tf.keras.layers.Input(shape=(MAX_TEXT_LEN,latent_dim))\n",
        "\n",
        "# Get the embeddings of the decoder sequence\n",
        "dec_emb2= dec_emb_layer(decoder_inputs)\n",
        "\n",
        "# To predict the next word in the sequence, set the initial states to the states from the previous time step\n",
        "decoder_outputs2, state_h2, state_c2 = decoder_lstm(dec_emb2, initial_state=[decoder_state_input_h, decoder_state_input_c])\n",
        "\n",
        "#attention inference\n",
        "attn_out_inf, attn_states_inf = attn_layer([decoder_hidden_state_input, decoder_outputs2])\n",
        "decoder_inf_concat = tf.keras.layers.Concatenate(axis=-1, name='concat')([decoder_outputs2, attn_out_inf])\n",
        "\n",
        "# A dense softmax layer to generate prob dist. over the target vocabulary\n",
        "decoder_outputs2 = decoder_dense(decoder_inf_concat)\n",
        "\n",
        "# Final decoder model\n",
        "decoder_model = tf.keras.models.Model(\n",
        "[decoder_inputs] + [decoder_hidden_state_input,decoder_state_input_h, decoder_state_input_c],\n",
        "[decoder_outputs2] + [state_h2, state_c2])"
      ],
      "execution_count": null,
      "outputs": []
    },
    {
      "cell_type": "code",
      "metadata": {
        "id": "KG3Y3TY17tHr"
      },
      "source": [
        "#Define some word_index/index_word dictionaries\n",
        "reverse_target_word_index = y_tokenizer.index_word.copy()\n",
        "reverse_source_word_index = x_tokenizer.index_word.copy()\n",
        "target_word_index = y_tokenizer.word_index.copy()"
      ],
      "execution_count": null,
      "outputs": []
    },
    {
      "cell_type": "code",
      "metadata": {
        "id": "jRmCU8ntQ49Q"
      },
      "source": [
        "#This function decodes a single sequence at a time.\n",
        "#In the next cell, I've implemented a bath decode function\n",
        "#Hence this code is obsolete and is for reference only\n",
        "\n",
        "#Define a function that feeds the output of decoder at time-step t as input to decoder at time-step t recursively\n",
        "#until 'xendx' token is reached\n",
        "def decode_sequence(input_seq):\n",
        "    # Encode the input as state vectors.\n",
        "    e_out, e_h, e_c = encoder_model.predict(input_seq)\n",
        "\n",
        "    # Generate empty target sequence of length 1.\n",
        "    target_seq = np.zeros((1,1))\n",
        "\n",
        "    # Chose the 'start' word as the first word of the target sequence\n",
        "    target_seq[0, 0] = target_word_index['xstartx']\n",
        "\n",
        "    stop_condition = False\n",
        "    decoded_sentence = ''\n",
        "    while not stop_condition:\n",
        "        output_tokens, h, c = decoder_model.predict([target_seq] + [e_out, e_h, e_c])\n",
        "        \n",
        "        # Sample a token\n",
        "        sampled_token_index = np.argmax(output_tokens[0, 0, :])\n",
        "        \n",
        "        if sampled_token_index == 0:\n",
        "          decoded_sentence += ' xpadx'\n",
        "          return decoded_sentence\n",
        "         \n",
        "        sampled_token = reverse_target_word_index[sampled_token_index]\n",
        "\n",
        "        if len(decoded_sentence.split()) >= (MAX_SUM_LEN-2):\n",
        "          stop_condition = True\n",
        "\n",
        "        elif (sampled_token!='xendx'):\n",
        "            decoded_sentence += ' '+sampled_token\n",
        "            # print(\"1st if \")\n",
        "\n",
        "        # Exit condition: either hit max length or find stop word.\n",
        "        elif (sampled_token == 'xendx'):\n",
        "            stop_condition = True\n",
        "            # print(sampled_token)\n",
        "\n",
        "        # Update the target sequence (of length 1).\n",
        "        # target_seq = np.zeros((1,1))\n",
        "        target_seq[0, 0] = sampled_token_index\n",
        "\n",
        "        # Update internal states\n",
        "        e_h, e_c = h, c\n",
        "\n",
        "    return decoded_sentence.strip()"
      ],
      "execution_count": null,
      "outputs": []
    },
    {
      "cell_type": "code",
      "metadata": {
        "id": "5UmB7mZgmASy"
      },
      "source": [
        "#Let the padding token '0' represent empty string\n",
        "reverse_target_word_index[0] = ''\n",
        "\n",
        "#It's handy to vecotrize mapping from index word operation in numpy.\n",
        "rtwi = np.vectorize(reverse_target_word_index.get)\n",
        "\n",
        "#Decode output\n",
        "def predict_sequences(input_seq):\n",
        "\n",
        "  # Encode the input as state vectors.\n",
        "  e_out, e_h, e_c = encoder_model.predict(input_seq)\n",
        "  # input_seq.shape[0] -> BS\n",
        "  # \"e_out\" - (BS, 80, 256), \"e_h\" - (BS, 256), \"e_c\" - (BS, 256)\n",
        "  \n",
        "  # Generate empty target sequence of length 1.\n",
        "  target_seq = np.zeros(input_seq.shape[0])\n",
        "\n",
        "  # Chose the 'start' word as the first words of the target sequences\n",
        "  target_seq.fill(target_word_index['xstartx'])\n",
        "\n",
        "  #This will store the string representation of decoded sequence\n",
        "  decoded_sentence = np.chararray(shape=(input_seq.shape[0],1), unicode=True)\n",
        "\n",
        "  for i in range(MAX_SUM_LEN):\n",
        "\n",
        "      output_tokens, h, c = decoder_model.predict([target_seq.reshape(-1,1)] + [e_out, e_h, e_c])\n",
        "      # \"output_tokens\" - (BS, 1, 13871), \"h\" - (BS, 256), \"c\" - (BS, 256)\n",
        "      \n",
        "      # Pick the max probability token for each sequence\n",
        "      sampled_token_index = np.argmax(output_tokens, axis=-1)\n",
        "      #shape - (BS,1)\n",
        "\n",
        "      #Map the index to corresponding word and\n",
        "      #concatenate it with the decoded_sequence\n",
        "      decoded_sentence = decoded_sentence + np.char.add(rtwi(sampled_token_index),' ') \n",
        "\n",
        "      # Update the target sequence to newly predicted outputs.\n",
        "      target_seq = sampled_token_index.ravel()\n",
        "\n",
        "      # Update internal states\n",
        "      e_h, e_c = h, c\n",
        "\n",
        "  #Return after remove and stripping whitespace  \n",
        "  return decoded_sentence.replace('xendx', '').strip()"
      ],
      "execution_count": null,
      "outputs": []
    },
    {
      "cell_type": "code",
      "metadata": {
        "id": "ozjmAIjVB7MF"
      },
      "source": [
        "##Create a dictionary for inference on validation data\n",
        "infer_dict = {'val_text': [], 'val_true': [], 'val_pred': [], 'bleu_score': []}\n",
        "\n",
        "val_true = np.char.array(y_tokenizer.sequences_to_texts(y_val), unicode=True).replace('xstartx','').replace('xendx', '').strip()\n",
        "infer_dict['val_true'] = val_true.tolist()\n",
        "infer_dict['val_text'] = x_tokenizer.sequences_to_texts(x_val)\n",
        "infer_dict['val_pred'] = predict_sequences(x_val).ravel().tolist()"
      ],
      "execution_count": null,
      "outputs": []
    },
    {
      "cell_type": "code",
      "metadata": {
        "colab": {
          "base_uri": "https://localhost:8080/"
        },
        "id": "fKFyKBQym188",
        "outputId": "428e0018-5d30-433f-bcd3-0e8d4f236bf5"
      },
      "source": [
        "#Calculate bleu score\n",
        "infer_dict['bleu_score'] = [sentence_bleu([r.split()], h.split(), weights=[1,0,0,0]) \n",
        "                            for r,h in zip(infer_dict['val_true'], infer_dict['val_pred'])]"
      ],
      "execution_count": null,
      "outputs": [
        {
          "output_type": "stream",
          "text": [
            "/usr/local/lib/python3.7/dist-packages/nltk/translate/bleu_score.py:490: UserWarning: \n",
            "Corpus/Sentence contains 0 counts of 2-gram overlaps.\n",
            "BLEU scores might be undesirable; use SmoothingFunction().\n",
            "  warnings.warn(_msg)\n",
            "/usr/local/lib/python3.7/dist-packages/nltk/translate/bleu_score.py:490: UserWarning: \n",
            "Corpus/Sentence contains 0 counts of 3-gram overlaps.\n",
            "BLEU scores might be undesirable; use SmoothingFunction().\n",
            "  warnings.warn(_msg)\n",
            "/usr/local/lib/python3.7/dist-packages/nltk/translate/bleu_score.py:490: UserWarning: \n",
            "Corpus/Sentence contains 0 counts of 4-gram overlaps.\n",
            "BLEU scores might be undesirable; use SmoothingFunction().\n",
            "  warnings.warn(_msg)\n"
          ],
          "name": "stderr"
        }
      ]
    },
    {
      "cell_type": "code",
      "metadata": {
        "colab": {
          "base_uri": "https://localhost:8080/",
          "height": 195
        },
        "id": "LOSAnq9Pa-6H",
        "outputId": "139a5a54-d5b7-4af0-9577-5920e88ce838"
      },
      "source": [
        "#Make a dataframe from inference dictionary and export it\n",
        "infer_df = pd.DataFrame(infer_dict)\n",
        "infer_df.to_csv(os.path.join(csv_dir, f'{model_name}_infer.csv'))\n",
        "\n",
        "infer_df.head()"
      ],
      "execution_count": null,
      "outputs": [
        {
          "output_type": "execute_result",
          "data": {
            "text/html": [
              "<div>\n",
              "<style scoped>\n",
              "    .dataframe tbody tr th:only-of-type {\n",
              "        vertical-align: middle;\n",
              "    }\n",
              "\n",
              "    .dataframe tbody tr th {\n",
              "        vertical-align: top;\n",
              "    }\n",
              "\n",
              "    .dataframe thead th {\n",
              "        text-align: right;\n",
              "    }\n",
              "</style>\n",
              "<table border=\"1\" class=\"dataframe\">\n",
              "  <thead>\n",
              "    <tr style=\"text-align: right;\">\n",
              "      <th></th>\n",
              "      <th>val_text</th>\n",
              "      <th>val_true</th>\n",
              "      <th>val_pred</th>\n",
              "      <th>bleu_score</th>\n",
              "    </tr>\n",
              "  </thead>\n",
              "  <tbody>\n",
              "    <tr>\n",
              "      <th>0</th>\n",
              "      <td>recently student class brought liquorice share...</td>\n",
              "      <td>mmmmm good</td>\n",
              "      <td>good flavor</td>\n",
              "      <td>0.500000</td>\n",
              "    </tr>\n",
              "    <tr>\n",
              "      <th>1</th>\n",
              "      <td>coffee drinkers tastes wide varied like coffee...</td>\n",
              "      <td>not great not terrible</td>\n",
              "      <td>good coffee</td>\n",
              "      <td>0.000000</td>\n",
              "    </tr>\n",
              "    <tr>\n",
              "      <th>2</th>\n",
              "      <td>one best tasting granola good ceral well regul...</td>\n",
              "      <td>great tasting but bit pricey</td>\n",
              "      <td>great granola</td>\n",
              "      <td>0.111565</td>\n",
              "    </tr>\n",
              "    <tr>\n",
              "      <th>3</th>\n",
              "      <td>say wow tangy sweet fruity refreshing hard ima...</td>\n",
              "      <td>the gum chewing has been waiting for</td>\n",
              "      <td>delicious</td>\n",
              "      <td>0.000000</td>\n",
              "    </tr>\n",
              "    <tr>\n",
              "      <th>4</th>\n",
              "      <td>used eating flaxseed brownie hodgson mill brow...</td>\n",
              "      <td>delicious brownie</td>\n",
              "      <td>best brownie ever</td>\n",
              "      <td>0.333333</td>\n",
              "    </tr>\n",
              "  </tbody>\n",
              "</table>\n",
              "</div>"
            ],
            "text/plain": [
              "                                            val_text  ... bleu_score\n",
              "0  recently student class brought liquorice share...  ...   0.500000\n",
              "1  coffee drinkers tastes wide varied like coffee...  ...   0.000000\n",
              "2  one best tasting granola good ceral well regul...  ...   0.111565\n",
              "3  say wow tangy sweet fruity refreshing hard ima...  ...   0.000000\n",
              "4  used eating flaxseed brownie hodgson mill brow...  ...   0.333333\n",
              "\n",
              "[5 rows x 4 columns]"
            ]
          },
          "metadata": {
            "tags": []
          },
          "execution_count": 71
        }
      ]
    },
    {
      "cell_type": "code",
      "metadata": {
        "colab": {
          "base_uri": "https://localhost:8080/"
        },
        "id": "qzGogHw8hkYz",
        "outputId": "624fb114-5d92-481c-cec9-d39ea9cac411"
      },
      "source": [
        "#Print some random results\n",
        "print(\"Let's print some random results from inference dataframe -\")\n",
        "for i, row in infer_df.sample(5).iterrows():\n",
        "  \n",
        "  print(\"\\nText: \", row['val_text'])\n",
        "  print(\"Original Summary: \", row['val_true'])\n",
        "  print(\"Predicted Summary: \", row['val_pred'])\n",
        "  print(\"BLEU unigram score: \", row['bleu_score'])\n",
        "\n",
        "print(\"\\nAverage BLEU score: \", infer_df.bleu_score.mean())"
      ],
      "execution_count": null,
      "outputs": [
        {
          "output_type": "stream",
          "text": [
            "Let's print some random results from inference dataframe -\n",
            "\n",
            "Text:  use get virginia peanuts family first year bought online company virginia gourment peanuts exactly expected purchasing\n",
            "Original Summary:  great peanuts great value\n",
            "Predicted Summary:  peanut butter review\n",
            "BLEU unigram score:  0.0\n",
            "\n",
            "Text:  cookies arrived fresh delicious usual good value plenty share understand use word necessary describe experience\n",
            "Original Summary:  famous amos\n",
            "Predicted Summary:  great cookies\n",
            "BLEU unigram score:  0.0\n",
            "\n",
            "Text:  really loved pasta tastes like natural spaghetti without pain issues associated gluten many products would come mushy like oatmeal one tastes much like ordinary pasta cannot tell difference purchased bionaturae organic gluten free pasta heartland pasta increased price frequently stock longer subscribe save option product mentioned bionaturae pasta gives packs spaghetti still costs less choosing subscribe save bionaturae offered subscribe save also great reviews see turns measure heartland bit bullet order heartland product\n",
            "Original Summary:  no longer offered in the subscribe save program\n",
            "Predicted Summary:  low carb pasta\n",
            "BLEU unigram score:  0.0\n",
            "\n",
            "Text:  really way add creamer enhance flavor blend signed subscription delivered every month drink every morning work works great home cafe system\n",
            "Original Summary:  if you dont like black coffee\n",
            "Predicted Summary:  great coffee\n",
            "BLEU unigram score:  0.06766764161830635\n",
            "\n",
            "Text:  neighborhood dogs walks piper dogs products always fresh consistent size color taste yes said taste read years ago people take snacks hiking share dogs human consumption quality tried maybe would prefer oreo bad test occasion see consistent natural soft peanut butter chews look like fig newtons stay fresh time open package till gone never want overdo snack fastest way cause obesity pet actually count cookies day put little tin keep helped control weight help remember many given\n",
            "Original Summary:  scrumptious\n",
            "Predicted Summary:  good dog food\n",
            "BLEU unigram score:  0.0\n",
            "\n",
            "Average BLEU score:  0.08337392726920029\n"
          ],
          "name": "stdout"
        }
      ]
    }
  ]
}